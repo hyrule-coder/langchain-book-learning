{
  "nbformat": 4,
  "nbformat_minor": 0,
  "metadata": {
    "colab": {
      "provenance": [],
      "authorship_tag": "ABX9TyNAdnbo5lWOOtJ59fIK07h+",
      "include_colab_link": true
    },
    "kernelspec": {
      "name": "python3",
      "display_name": "Python 3"
    },
    "language_info": {
      "name": "python"
    }
  },
  "cells": [
    {
      "cell_type": "markdown",
      "metadata": {
        "id": "view-in-github",
        "colab_type": "text"
      },
      "source": [
        "<a href=\"https://colab.research.google.com/github/hyrule-coder/langchain-book-learning/blob/main/chapter5.ipynb\" target=\"_parent\"><img src=\"https://colab.research.google.com/assets/colab-badge.svg\" alt=\"Open In Colab\"/></a>"
      ]
    },
    {
      "cell_type": "markdown",
      "source": [
        "# 5. LangChain Expression Language (LCEL) 徹底解説"
      ],
      "metadata": {
        "id": "fjAJL0SmdRms"
      }
    },
    {
      "cell_type": "code",
      "execution_count": null,
      "metadata": {
        "colab": {
          "base_uri": "https://localhost:8080/"
        },
        "id": "sARBhqCndQ2d",
        "outputId": "be750055-4d81-4f85-a660-7b35afd02388"
      },
      "outputs": [
        {
          "output_type": "stream",
          "name": "stdout",
          "text": [
            "Collecting langchain-openai==0.2.0\n",
            "  Downloading langchain_openai-0.2.0-py3-none-any.whl.metadata (2.6 kB)\n",
            "Requirement already satisfied: langchain-core<0.4,>=0.3 in /usr/local/lib/python3.11/dist-packages (from langchain-openai==0.2.0) (0.3.29)\n",
            "Requirement already satisfied: openai<2.0.0,>=1.40.0 in /usr/local/lib/python3.11/dist-packages (from langchain-openai==0.2.0) (1.59.6)\n",
            "Requirement already satisfied: tiktoken<1,>=0.7 in /usr/local/lib/python3.11/dist-packages (from langchain-openai==0.2.0) (0.8.0)\n",
            "Requirement already satisfied: PyYAML>=5.3 in /usr/local/lib/python3.11/dist-packages (from langchain-core<0.4,>=0.3->langchain-openai==0.2.0) (6.0.2)\n",
            "Requirement already satisfied: jsonpatch<2.0,>=1.33 in /usr/local/lib/python3.11/dist-packages (from langchain-core<0.4,>=0.3->langchain-openai==0.2.0) (1.33)\n",
            "Requirement already satisfied: langsmith<0.3,>=0.1.125 in /usr/local/lib/python3.11/dist-packages (from langchain-core<0.4,>=0.3->langchain-openai==0.2.0) (0.1.147)\n",
            "Requirement already satisfied: packaging<25,>=23.2 in /usr/local/lib/python3.11/dist-packages (from langchain-core<0.4,>=0.3->langchain-openai==0.2.0) (24.2)\n",
            "Requirement already satisfied: pydantic<3.0.0,>=2.5.2 in /usr/local/lib/python3.11/dist-packages (from langchain-core<0.4,>=0.3->langchain-openai==0.2.0) (2.10.5)\n",
            "Requirement already satisfied: tenacity!=8.4.0,<10.0.0,>=8.1.0 in /usr/local/lib/python3.11/dist-packages (from langchain-core<0.4,>=0.3->langchain-openai==0.2.0) (8.5.0)\n",
            "Requirement already satisfied: typing-extensions>=4.7 in /usr/local/lib/python3.11/dist-packages (from langchain-core<0.4,>=0.3->langchain-openai==0.2.0) (4.12.2)\n",
            "Requirement already satisfied: anyio<5,>=3.5.0 in /usr/local/lib/python3.11/dist-packages (from openai<2.0.0,>=1.40.0->langchain-openai==0.2.0) (3.7.1)\n",
            "Requirement already satisfied: distro<2,>=1.7.0 in /usr/local/lib/python3.11/dist-packages (from openai<2.0.0,>=1.40.0->langchain-openai==0.2.0) (1.9.0)\n",
            "Requirement already satisfied: httpx<1,>=0.23.0 in /usr/local/lib/python3.11/dist-packages (from openai<2.0.0,>=1.40.0->langchain-openai==0.2.0) (0.28.1)\n",
            "Requirement already satisfied: jiter<1,>=0.4.0 in /usr/local/lib/python3.11/dist-packages (from openai<2.0.0,>=1.40.0->langchain-openai==0.2.0) (0.8.2)\n",
            "Requirement already satisfied: sniffio in /usr/local/lib/python3.11/dist-packages (from openai<2.0.0,>=1.40.0->langchain-openai==0.2.0) (1.3.1)\n",
            "Requirement already satisfied: tqdm>4 in /usr/local/lib/python3.11/dist-packages (from openai<2.0.0,>=1.40.0->langchain-openai==0.2.0) (4.67.1)\n",
            "Requirement already satisfied: regex>=2022.1.18 in /usr/local/lib/python3.11/dist-packages (from tiktoken<1,>=0.7->langchain-openai==0.2.0) (2024.11.6)\n",
            "Requirement already satisfied: requests>=2.26.0 in /usr/local/lib/python3.11/dist-packages (from tiktoken<1,>=0.7->langchain-openai==0.2.0) (2.32.3)\n",
            "Requirement already satisfied: idna>=2.8 in /usr/local/lib/python3.11/dist-packages (from anyio<5,>=3.5.0->openai<2.0.0,>=1.40.0->langchain-openai==0.2.0) (3.10)\n",
            "Requirement already satisfied: certifi in /usr/local/lib/python3.11/dist-packages (from httpx<1,>=0.23.0->openai<2.0.0,>=1.40.0->langchain-openai==0.2.0) (2024.12.14)\n",
            "Requirement already satisfied: httpcore==1.* in /usr/local/lib/python3.11/dist-packages (from httpx<1,>=0.23.0->openai<2.0.0,>=1.40.0->langchain-openai==0.2.0) (1.0.7)\n",
            "Requirement already satisfied: h11<0.15,>=0.13 in /usr/local/lib/python3.11/dist-packages (from httpcore==1.*->httpx<1,>=0.23.0->openai<2.0.0,>=1.40.0->langchain-openai==0.2.0) (0.14.0)\n",
            "Requirement already satisfied: jsonpointer>=1.9 in /usr/local/lib/python3.11/dist-packages (from jsonpatch<2.0,>=1.33->langchain-core<0.4,>=0.3->langchain-openai==0.2.0) (3.0.0)\n",
            "Requirement already satisfied: orjson<4.0.0,>=3.9.14 in /usr/local/lib/python3.11/dist-packages (from langsmith<0.3,>=0.1.125->langchain-core<0.4,>=0.3->langchain-openai==0.2.0) (3.10.14)\n",
            "Requirement already satisfied: requests-toolbelt<2.0.0,>=1.0.0 in /usr/local/lib/python3.11/dist-packages (from langsmith<0.3,>=0.1.125->langchain-core<0.4,>=0.3->langchain-openai==0.2.0) (1.0.0)\n",
            "Requirement already satisfied: annotated-types>=0.6.0 in /usr/local/lib/python3.11/dist-packages (from pydantic<3.0.0,>=2.5.2->langchain-core<0.4,>=0.3->langchain-openai==0.2.0) (0.7.0)\n",
            "Requirement already satisfied: pydantic-core==2.27.2 in /usr/local/lib/python3.11/dist-packages (from pydantic<3.0.0,>=2.5.2->langchain-core<0.4,>=0.3->langchain-openai==0.2.0) (2.27.2)\n",
            "Requirement already satisfied: charset-normalizer<4,>=2 in /usr/local/lib/python3.11/dist-packages (from requests>=2.26.0->tiktoken<1,>=0.7->langchain-openai==0.2.0) (3.4.1)\n",
            "Requirement already satisfied: urllib3<3,>=1.21.1 in /usr/local/lib/python3.11/dist-packages (from requests>=2.26.0->tiktoken<1,>=0.7->langchain-openai==0.2.0) (2.3.0)\n",
            "Downloading langchain_openai-0.2.0-py3-none-any.whl (51 kB)\n",
            "\u001b[?25l   \u001b[90m━━━━━━━━━━━━━━━━━━━━━━━━━━━━━━━━━━━━━━━━\u001b[0m \u001b[32m0.0/51.5 kB\u001b[0m \u001b[31m?\u001b[0m eta \u001b[36m-:--:--\u001b[0m\r\u001b[2K   \u001b[90m━━━━━━━━━━━━━━━━━━━━━━━━━━━━━━━━━━━━━━━━\u001b[0m \u001b[32m51.5/51.5 kB\u001b[0m \u001b[31m3.9 MB/s\u001b[0m eta \u001b[36m0:00:00\u001b[0m\n",
            "\u001b[?25hInstalling collected packages: langchain-openai\n",
            "Successfully installed langchain-openai-0.2.0\n"
          ]
        }
      ],
      "source": [
        "!pip install langchain-openai==0.2.0"
      ]
    },
    {
      "cell_type": "code",
      "source": [
        "import os\n",
        "from google.colab import userdata\n",
        "\n",
        "os.environ[\"LANGCHAIN_TRACING_V2\"] = \"true\"\n",
        "os.environ[\"LANGCHAIN_ENDPOINT\"] = \"https://api.smith.langchain.com\"\n",
        "os.environ[\"LANGCHAIN_API_KEY\"] = userdata.get('LANGCHAIN_API_KEY')\n",
        "os.environ[\"LANGCHAIN_PROJECT\"] = \"agent-book\"\n",
        "os.environ[\"OPENAI_API_KEY\"] = userdata.get('OPENAI_API_KEY')\n"
      ],
      "metadata": {
        "id": "Uqa4yWgt2hf6"
      },
      "execution_count": null,
      "outputs": []
    },
    {
      "cell_type": "markdown",
      "source": [
        "## 5.1 RunnableとRunnableSequence -- LCELの最も基本的な構成要素"
      ],
      "metadata": {
        "id": "KvfzWXXpeNS_"
      }
    },
    {
      "cell_type": "code",
      "source": [
        "from langchain_core.output_parsers import StrOutputParser\n",
        "from langchain_core.prompts import ChatPromptTemplate\n",
        "from langchain_openai import ChatOpenAI\n",
        "\n",
        "prompt = ChatPromptTemplate.from_messages(\n",
        "    [\n",
        "        (\"system\", \"ユーザーが入力した料理のレシピを考えてください。\"),\n",
        "        (\"human\", \"{dish}\")\n",
        "    ]\n",
        ")\n",
        "\n",
        "model = ChatOpenAI(model=\"gpt-4o-mini\", temperature=0)\n",
        "\n",
        "output_parser = StrOutputParser()\n",
        "\n",
        "#prompt_value = prompt.invoke({\"dish\": \"カレー\"})\n",
        "#ai_message = model.invoke(prompt_value)\n",
        "#output = output_parser.invoke(ai_message)\n",
        "\n",
        "chain = prompt | model | output_parser\n",
        "output = chain.invoke({\"dish\": \"カレー\"})\n",
        "\n",
        "print(output)"
      ],
      "metadata": {
        "colab": {
          "base_uri": "https://localhost:8080/"
        },
        "id": "AIMFSI68eE21",
        "outputId": "77da7039-4914-4aca-8c09-d01e722aac7c"
      },
      "execution_count": null,
      "outputs": [
        {
          "output_type": "stream",
          "name": "stdout",
          "text": [
            "カレーのレシピをご紹介します。シンプルで美味しい基本的なチキンカレーの作り方です。\n",
            "\n",
            "### 材料（4人分）\n",
            "- 鶏もも肉：400g（大きめの一口大にカット）\n",
            "- 玉ねぎ：2個（みじん切り）\n",
            "- にんにく：2片（みじん切り）\n",
            "- 生姜：1片（みじん切り）\n",
            "- トマト：1個（ざく切り）\n",
            "- カレーパウダー：大さじ2\n",
            "- 塩：小さじ1（お好みで調整）\n",
            "- ココナッツミルク：200ml（または水）\n",
            "- サラダ油：大さじ2\n",
            "- パクチー（お好みで）：適量\n",
            "\n",
            "### 作り方\n",
            "1. **下準備**: 鶏肉は一口大にカットし、塩を振っておきます。玉ねぎ、にんにく、生姜、トマトはそれぞれみじん切り、ざく切りにします。\n",
            "\n",
            "2. **玉ねぎを炒める**: 大きめの鍋にサラダ油を熱し、みじん切りにした玉ねぎを加え、中火で透明になるまで炒めます。\n",
            "\n",
            "3. **香味野菜を加える**: 玉ねぎが透明になったら、にんにくと生姜を加え、香りが立つまでさらに炒めます。\n",
            "\n",
            "4. **鶏肉を加える**: 鶏もも肉を鍋に加え、表面が白くなるまで炒めます。\n",
            "\n",
            "5. **トマトとスパイスを加える**: ざく切りにしたトマトとカレーパウダーを加え、全体をよく混ぜます。トマトが崩れるまで炒めます。\n",
            "\n",
            "6. **煮込む**: ココナッツミルク（または水）を加え、全体を混ぜたら、蓋をして中火で約15分煮込みます。時々かき混ぜて、焦げ付かないように注意します。\n",
            "\n",
            "7. **味を調える**: 煮込みが終わったら、塩で味を調整します。お好みで辛さを足したい場合は、チリパウダーやカイエンペッパーを加えても良いです。\n",
            "\n",
            "8. **盛り付け**: お皿に盛り付け、お好みでパクチーを散らして完成です。\n",
            "\n",
            "### 提供方法\n",
            "ご飯やナンと一緒に楽しんでください。サラダやヨーグルトを添えると、より一層美味しくいただけます。\n",
            "\n",
            "お好みで野菜（じゃがいも、にんじん、ピーマンなど）を加えても美味しいです。お試しください！\n"
          ]
        }
      ]
    },
    {
      "cell_type": "markdown",
      "source": [
        "### Runnableの実行方法 --invoke・stream・batch"
      ],
      "metadata": {
        "id": "IQFqdUHOgjZY"
      }
    },
    {
      "cell_type": "markdown",
      "source": [
        "#### Stream"
      ],
      "metadata": {
        "id": "sDyiJevggzEh"
      }
    },
    {
      "cell_type": "code",
      "source": [
        "chain = prompt | model | output_parser\n",
        "for chunk in chain.stream({\"dish\": \"カレー\"}):\n",
        "    print(chunk, end=\"\", flush=True)"
      ],
      "metadata": {
        "colab": {
          "base_uri": "https://localhost:8080/"
        },
        "id": "wRuFYoDugpYm",
        "outputId": "3e8cafe8-2a2c-4ee0-af65-81fd86ad7fd8"
      },
      "execution_count": null,
      "outputs": [
        {
          "output_type": "stream",
          "name": "stdout",
          "text": [
            "カレーのレシピをご紹介します！以下は基本的なチキンカレーのレシピです。\n",
            "\n",
            "### 材料（4人分）\n",
            "- 鶏もも肉：400g（食べやすい大きさにカット）\n",
            "- 玉ねぎ：2個（みじん切り）\n",
            "- にんにく：2片（みじん切り）\n",
            "- 生姜：1片（みじん切り）\n",
            "- トマト：1個（ざく切り）\n",
            "- カレーパウダー：大さじ2\n",
            "- クミンシード：小さじ1（お好みで）\n",
            "- ココナッツミルク：200ml（お好みで）\n",
            "- サラダ油：大さじ2\n",
            "- 塩：適量\n",
            "- 黒胡椒：適量\n",
            "- 水：400ml\n",
            "- パクチー（飾り用）：適量\n",
            "\n",
            "### 作り方\n",
            "1. **下準備**: 鶏肉に塩と黒胡椒をふりかけて下味をつけておきます。\n",
            "\n",
            "2. **玉ねぎを炒める**: 大きめの鍋にサラダ油を熱し、みじん切りにした玉ねぎを加え、中火で透明になるまで炒めます。\n",
            "\n",
            "3. **香味野菜を加える**: にんにくと生姜を加え、香りが立つまでさらに炒めます。\n",
            "\n",
            "4. **スパイスを加える**: クミンシードを加え、さらに1分ほど炒めた後、カレーパウダーを加え、全体がよく混ざるまで炒めます。\n",
            "\n",
            "5. **鶏肉を加える**: 鶏肉を鍋に加え、表面が白くなるまで炒めます。\n",
            "\n",
            "6. **トマトと水を加える**: ざく切りにしたトマトと水を加え、全体をよく混ぜます。沸騰したら、弱火にして蓋をし、約20分煮込みます。\n",
            "\n",
            "7. **ココナッツミルクを加える**: 煮込みが終わったら、ココナッツミルクを加え、さらに5分ほど煮ます。味を見て、必要に応じて塩で調整します。\n",
            "\n",
            "8. **盛り付け**: お皿に盛り付け、パクチーを散らして完成です。\n",
            "\n",
            "### 提供方法\n",
            "ご飯やナンと一緒にお召し上がりください。お好みでヨーグルトやサラダを添えると、より美味しく楽しめます。\n",
            "\n",
            "ぜひお試しください！"
          ]
        }
      ]
    },
    {
      "cell_type": "markdown",
      "source": [
        "#### batch"
      ],
      "metadata": {
        "id": "mh-kGlbXhKCD"
      }
    },
    {
      "cell_type": "code",
      "source": [
        "chain = prompt | model | output_parser\n",
        "\n",
        "outputs = chain.batch([{\"dish\":\"カレー\"}, {\"dish\":\"うどん\"}])\n",
        "print(outputs)"
      ],
      "metadata": {
        "colab": {
          "base_uri": "https://localhost:8080/"
        },
        "id": "HxL7ScrXhMwQ",
        "outputId": "10c50259-3a65-4f23-a1bc-40ffb7f46a8a"
      },
      "execution_count": null,
      "outputs": [
        {
          "output_type": "stream",
          "name": "stdout",
          "text": [
            "['カレーのレシピをご紹介します！以下は基本的なチキンカレーのレシピです。\\n\\n### 材料（4人分）\\n- 鶏もも肉：400g（食べやすい大きさにカット）\\n- 玉ねぎ：2個（みじん切り）\\n- にんにく：2片（みじん切り）\\n- 生姜：1片（みじん切り）\\n- トマト：1個（ざく切り）\\n- カレーパウダー：大さじ2\\n- クミンシード：小さじ1（お好みで）\\n- ココナッツミルク：200ml（お好みで）\\n- サラダ油：大さじ2\\n- 塩：適量\\n- 黒胡椒：適量\\n- 水：400ml\\n- パクチー（飾り用）：適量\\n\\n### 作り方\\n1. **下準備**：\\n   - 鶏肉に塩と黒胡椒をふりかけて下味をつけておきます。\\n\\n2. **玉ねぎを炒める**：\\n   - 大きめの鍋にサラダ油を熱し、みじん切りにした玉ねぎを加え、中火で透明になるまで炒めます。\\n\\n3. **香味野菜を加える**：\\n   - にんにくと生姜を加え、香りが立つまでさらに炒めます。\\n\\n4. **鶏肉を加える**：\\n   - 鶏肉を鍋に加え、表面が白くなるまで炒めます。\\n\\n5. **スパイスを加える**：\\n   - カレーパウダーとクミンシードを加え、全体に絡めるように炒めます。\\n\\n6. **トマトと水を加える**：\\n   - ざく切りにしたトマトを加え、少し煮込んでから水を加えます。沸騰したら、弱火にして20分ほど煮込みます。\\n\\n7. **ココナッツミルクを加える**（お好みで）：\\n   - 煮込みが終わったら、ココナッツミルクを加え、さらに5分ほど煮ます。\\n\\n8. **味を調える**：\\n   - 塩で味を調整し、必要に応じて黒胡椒を加えます。\\n\\n9. **盛り付け**：\\n   - お皿に盛り付け、パクチーを散らして完成です。\\n\\n### 提供方法\\nご飯やナンと一緒にお召し上がりください。お好みでヨーグルトやサラダを添えると、より美味しく楽しめます！\\n\\nぜひお試しください！', 'うどんのレシピをご紹介します。シンプルで美味しい「かけうどん」の作り方です。\\n\\n### 材料（2人分）\\n- うどん（乾燥または生）: 2玉\\n- だし汁: 600ml\\n  - だしの素（顆粒）: 大さじ1（または本だしを使用）\\n  - 水: 600ml\\n- 醤油: 大さじ2\\n- みりん: 大さじ1\\n- 塩: 少々\\n- トッピング（お好みで）:\\n  - ネギ（小口切り）\\n  - 天かす\\n  - かまぼこ\\n  - ほうれん草（茹でておく）\\n  - すりごま\\n\\n### 作り方\\n\\n1. **だし汁を作る**:\\n   - 鍋に水を入れ、だしの素を加えて中火にかけます。沸騰したら、醤油、みりん、塩を加えて味を調えます。\\n\\n2. **うどんを茹でる**:\\n   - 別の鍋にたっぷりの水を沸騰させ、うどんを入れてパッケージの指示に従って茹でます。茹で上がったら、冷水でしっかりと洗い、ぬめりを取ります。\\n\\n3. **盛り付け**:\\n   - 茹でたうどんを器に盛り、熱々のだし汁をかけます。\\n\\n4. **トッピング**:\\n   - お好みのトッピング（ネギ、天かす、かまぼこ、ほうれん草、すりごまなど）をのせて完成です。\\n\\n### 提案\\n- 具材を追加したい場合は、鶏肉やきのこ、野菜を煮込んでトッピングとして使うと、よりボリュームのある一品になります。\\n- 辛味が好きな方は、七味唐辛子を振りかけてお楽しみください。\\n\\nシンプルでありながら、だしの旨味が引き立つかけうどんをぜひお試しください！']\n"
          ]
        }
      ]
    },
    {
      "cell_type": "markdown",
      "source": [
        "### LCELの「|」でさまざまなRunnableを連結させる"
      ],
      "metadata": {
        "id": "V8oHQgH7i7pK"
      }
    },
    {
      "cell_type": "code",
      "source": [
        "from langchain_core.output_parsers import StrOutputParser\n",
        "from langchain_core.prompts import ChatPromptTemplate\n",
        "from langchain_openai import ChatOpenAI\n",
        "\n",
        "model = ChatOpenAI(model=\"gpt-4o-mini\", temperature=0)\n",
        "\n",
        "output_parser = StrOutputParser()\n",
        "\n",
        "cot_prompt = ChatPromptTemplate.from_messages(\n",
        "    [\n",
        "        (\"system\", \"ユーザーの質問にステップバイステップで回答してください。\"),\n",
        "        (\"human\", \"{question}\")\n",
        "    ]\n",
        ")\n",
        "\n",
        "cot_chain = cot_prompt | model | output_parser\n",
        "\n",
        "summarize_prompt = ChatPromptTemplate.from_messages(\n",
        "    [\n",
        "        (\"system\", \"ステップバイステップで考えた回答から結論だけ抽出してください\"),\n",
        "        (\"human\", \"{text}\")\n",
        "    ]\n",
        ")\n",
        "\n",
        "summarize_chain = summarize_prompt | model | output_parser\n",
        "\n",
        "cot_summarize_chain = cot_chain | summarize_chain\n",
        "cot_summarize_chain.invoke({\"question\": \"10 + 2 * 3\"})"
      ],
      "metadata": {
        "colab": {
          "base_uri": "https://localhost:8080/",
          "height": 35
        },
        "id": "7t1Hi_VpjEJ5",
        "outputId": "15587333-6f00-4857-a368-edc6aef7d5e0"
      },
      "execution_count": null,
      "outputs": [
        {
          "output_type": "execute_result",
          "data": {
            "text/plain": [
              "'16'"
            ],
            "application/vnd.google.colaboratory.intrinsic+json": {
              "type": "string"
            }
          },
          "metadata": {},
          "execution_count": 13
        }
      ]
    },
    {
      "cell_type": "markdown",
      "source": [
        "## 5.2 RunnableLambda--任意の関数をRunnableにする"
      ],
      "metadata": {
        "id": "9Ahc43vCVzgo"
      }
    },
    {
      "cell_type": "code",
      "source": [
        "from langchain_core.output_parsers import StrOutputParser\n",
        "from langchain_core.prompts import ChatPromptTemplate\n",
        "from langchain_openai import ChatOpenAI\n",
        "\n",
        "prompt = ChatPromptTemplate.from_messages(\n",
        "    [\n",
        "        (\"system\", \"You are a helpful assistant.\"),\n",
        "        (\"human\", \"{input}\")\n",
        "    ]\n",
        ")\n",
        "\n",
        "model = ChatOpenAI(model=\"gpt-4o-mini\", temperature=0)\n",
        "\n",
        "output_parser = StrOutputParser()\n",
        "\n",
        "from langchain_core.runnables import RunnableLambda\n",
        "\n",
        "def upper(text: str) -> str:\n",
        "    return text.upper()\n",
        "\n",
        "chain = prompt | model | output_parser | RunnableLambda(upper)\n",
        "\n",
        "output = chain.invoke({\"input\": \"hello\"})\n",
        "print(output)"
      ],
      "metadata": {
        "colab": {
          "base_uri": "https://localhost:8080/"
        },
        "id": "9H-QEwGvWBj4",
        "outputId": "1f6b4424-9c43-4f3e-9796-8b5e750e0fbf"
      },
      "execution_count": null,
      "outputs": [
        {
          "output_type": "stream",
          "name": "stdout",
          "text": [
            "HELLO! HOW CAN I ASSIST YOU TODAY?\n"
          ]
        }
      ]
    },
    {
      "cell_type": "markdown",
      "source": [
        "### chainデコレーターを使ったRunnableLambdaの実装"
      ],
      "metadata": {
        "id": "D5jjLaWHYY9O"
      }
    },
    {
      "cell_type": "code",
      "source": [
        "from langchain_core.runnables import chain\n",
        "\n",
        "@chain\n",
        "def upper(text: str) -> str:\n",
        "    return text.upper()\n",
        "\n",
        "chain = prompt | model | output_parser | upper\n",
        "\n",
        "output = chain.invoke({\"input\": \"hello\"})\n",
        "print(output)"
      ],
      "metadata": {
        "colab": {
          "base_uri": "https://localhost:8080/"
        },
        "id": "_FV7h_dxYJ06",
        "outputId": "3be3312f-377c-459d-fb50-0bb3ff62384c"
      },
      "execution_count": null,
      "outputs": [
        {
          "output_type": "stream",
          "name": "stdout",
          "text": [
            "HELLO! HOW CAN I ASSIST YOU TODAY?\n"
          ]
        }
      ]
    },
    {
      "cell_type": "markdown",
      "source": [
        "### RunnableLambdaへの自動変換"
      ],
      "metadata": {
        "id": "32e2ejihYqWt"
      }
    },
    {
      "cell_type": "code",
      "source": [
        "def upper(text: str) -> str:\n",
        "    return text.upper()\n",
        "\n",
        "chain = prompt | model | output_parser | upper\n",
        "\n",
        "output = chain.invoke({\"input\": \"hello\"})\n",
        "print(output)"
      ],
      "metadata": {
        "colab": {
          "base_uri": "https://localhost:8080/"
        },
        "id": "j6YjMROGYwq5",
        "outputId": "61f67e4c-2ee7-498d-b363-feb5e085d560"
      },
      "execution_count": null,
      "outputs": [
        {
          "output_type": "stream",
          "name": "stdout",
          "text": [
            "HELLO! HOW CAN I ASSIST YOU TODAY?\n"
          ]
        }
      ]
    },
    {
      "cell_type": "markdown",
      "source": [
        "### Runnableの入力の型と出力の型に注意"
      ],
      "metadata": {
        "id": "5R_gpQ08ZMIB"
      }
    },
    {
      "cell_type": "code",
      "source": [
        "def upper(text: str) -> str:\n",
        "    return text.upper()\n",
        "\n",
        "chain = prompt | model | StrOutputParser() | upper\n",
        "\n",
        "output = chain.invoke({\"input\": \"hello\"})\n",
        "print(output)\n"
      ],
      "metadata": {
        "colab": {
          "base_uri": "https://localhost:8080/"
        },
        "id": "enk-2cTFZSzi",
        "outputId": "720028ea-9833-4f10-fb45-0061380d1271"
      },
      "execution_count": null,
      "outputs": [
        {
          "output_type": "stream",
          "name": "stdout",
          "text": [
            "HELLO! HOW CAN I ASSIST YOU TODAY?\n"
          ]
        }
      ]
    },
    {
      "cell_type": "markdown",
      "source": [
        "## 5.3 RunnableParallel--複数のRunnablewo並列につなげる"
      ],
      "metadata": {
        "id": "fiFVlu-Uay1b"
      }
    },
    {
      "cell_type": "code",
      "source": [
        "from langchain_core.output_parsers import StrOutputParser\n",
        "from langchain_core.prompts import ChatPromptTemplate\n",
        "from langchain_openai import ChatOpenAI\n",
        "\n",
        "model = ChatOpenAI(model=\"gpt-4o-mini\", temperature=0)\n",
        "output_parser = StrOutputParser()\n",
        "\n",
        "optimistic_prompt = ChatPromptTemplate.from_messages(\n",
        "    [\n",
        "        (\"system\", \"あなたは楽観主義者です。ユーザーの入力に対して楽観的な意見をください。\"),\n",
        "        (\"human\", \"{topic}\")\n",
        "    ]\n",
        ")\n",
        "\n",
        "optimistic_chain = optimistic_prompt | model | output_parser\n",
        "\n",
        "pessimistic_prompt = ChatPromptTemplate.from_messages(\n",
        "    [\n",
        "        (\"system\", \"あなたは悲観主義者です。ユーザーの入力に対して悲観的な意見をください。\"),\n",
        "        (\"human\", \"{topic}\")\n",
        "    ]\n",
        ")\n",
        "\n",
        "pessimistic_chain = pessimistic_prompt | model | output_parser\n",
        "\n",
        "\n",
        "import pprint\n",
        "from langchain_core.runnables import RunnableParallel\n",
        "\n",
        "paraller_chain = RunnableParallel(\n",
        "  {\n",
        "    \"optimistic_opinion\":optimistic_chain,\n",
        "    \"pessimistic_opinion  \":pessimistic_chain\n",
        "  }\n",
        "  )\n",
        "\n",
        "output = paraller_chain.invoke({\"topic\": \"AI\"})\n",
        "pprint.pprint(output)"
      ],
      "metadata": {
        "colab": {
          "base_uri": "https://localhost:8080/"
        },
        "id": "H8ynZepta4ue",
        "outputId": "3ef951c1-e83c-4772-e387-6e0ae5d0d25e"
      },
      "execution_count": null,
      "outputs": [
        {
          "output_type": "stream",
          "name": "stdout",
          "text": [
            "{'optimistic_opinion': 'AIは本当に素晴らしい技術ですね！私たちの生活を便利にし、さまざまな分野での革新を促進しています。医療、教育、環境問題など、AIの力を借りてより良い未来を築くことができるのです。これからもAIが進化し、私たちの可能性を広げてくれることを楽しみにしています！',\n",
            " 'pessimistic_opinion  ': 'AIは確かに便利なツールですが、その進化には多くの懸念が伴います。人間の仕事が奪われたり、プライバシーが侵害されたりするリスクが高まっています。さらに、AIの判断が誤っている場合、その影響は計り知れません。結局、私たちが作り出したものが、私たち自身を脅かす存在になる可能性があるのです。'}\n"
          ]
        }
      ]
    },
    {
      "cell_type": "markdown",
      "source": [
        "### RunnableParallelの出力をRunnableの入力に連結する"
      ],
      "metadata": {
        "id": "gnMjWTJheZs9"
      }
    },
    {
      "cell_type": "code",
      "source": [
        "synthesize_prompt = ChatPromptTemplate.from_messages(\n",
        "    [\n",
        "        (\"system\", \"あなたは客観的AIです。２つの意見をまとめてください。\"),\n",
        "        (\"human\", \"楽観的意見:{optimistic_opinion}\\n悲観的意見:{pessimistic_opinion}\"),\n",
        "    ]\n",
        ")\n",
        "\n",
        "synthesize_chain =  (\n",
        "    RunnableParallel(\n",
        "        {\n",
        "            \"optimistic_opinion\":optimistic_chain,\n",
        "            \"pessimistic_opinion\":pessimistic_chain,\n",
        "        }\n",
        "    )\n",
        "    | synthesize_prompt\n",
        "    | model\n",
        "    | output_parser\n",
        ")\n",
        "\n",
        "output = synthesize_chain.invoke({\"topic\": \"生成AIの進化について\"})\n",
        "print(output)\n"
      ],
      "metadata": {
        "colab": {
          "base_uri": "https://localhost:8080/"
        },
        "id": "OB0Ftx76egXy",
        "outputId": "d02e80cb-9fad-4645-8263-1ac512fe2b0e"
      },
      "execution_count": null,
      "outputs": [
        {
          "output_type": "stream",
          "name": "stdout",
          "text": [
            "生成AIの進化については、楽観的な意見と悲観的な意見が存在します。楽観的な見方では、生成AIの技術が進むことで、私たちの生活が便利で豊かになり、クリエイティブな作業や問題解決の支援を通じて、AIが私たちのアイデアを実現するパートナーとして機能することが期待されています。また、教育や医療、エンターテインメントなどの分野での革新が進むことで、より多くの人々が新しい知識や体験にアクセスでき、社会全体が進化する可能性があるとされています。\n",
            "\n",
            "一方で、悲観的な見方では、生成AIの進化には多くの懸念が伴います。技術の進化が仕事の喪失や情報の信頼性の低下を引き起こすリスクがあり、AIが生成するコンテンツの氾濫によって真実と虚偽の区別が難しくなることで、社会が混乱する可能性も指摘されています。このように、生成AIの進化は便利さをもたらす一方で、私たちの未来に対する脅威ともなり得るという両面が存在しています。\n"
          ]
        }
      ]
    },
    {
      "cell_type": "markdown",
      "source": [
        "### RunnableParallelへの自動変換"
      ],
      "metadata": {
        "id": "F3vC1F1WgSMQ"
      }
    },
    {
      "cell_type": "code",
      "source": [
        "synthesize_chain =  (\n",
        "    {\n",
        "        \"optimistic_opinion\":optimistic_chain,\n",
        "        \"pessimistic_opinion\":pessimistic_chain,\n",
        "    }\n",
        "    | synthesize_prompt\n",
        "    | model\n",
        "    | output_parser\n",
        ")\n",
        "\n",
        "output = synthesize_chain.invoke({\"topic\": \"生成AIの進化について\"})\n",
        "print(output)"
      ],
      "metadata": {
        "colab": {
          "base_uri": "https://localhost:8080/"
        },
        "id": "q8s_KBcegeY6",
        "outputId": "ca00c9fb-7384-4b79-f30a-fabae836300e"
      },
      "execution_count": null,
      "outputs": [
        {
          "output_type": "stream",
          "name": "stdout",
          "text": [
            "生成AIの進化については、楽観的な意見と悲観的な意見が存在します。楽観的な意見では、生成AIの技術が進むことで私たちの生活が便利で豊かになり、クリエイティブな作業や問題解決のパートナーとしての役割を果たすことが期待されています。この進化により新しい発見や革新が続き、未来が明るくなる可能性にワクワクする声が上がっています。\n",
            "\n",
            "一方で、悲観的な意見では、生成AIの進化には多くの懸念が伴い、仕事の喪失や情報の信頼性の低下、オリジナリティの喪失といったリスクが指摘されています。便利さの裏には代償があり、技術の扱い方が未来に大きな影響を与えることが強調されています。結局、生成AIの進化はその利点とリスクの両面を持ち合わせており、私たちがどのようにこの技術を活用するかが重要であると言えるでしょう。\n"
          ]
        }
      ]
    },
    {
      "cell_type": "markdown",
      "source": [
        "### RunnableLambdaとの組み合わせ--itemgetterを使う例"
      ],
      "metadata": {
        "id": "4C2jqN1tg-_F"
      }
    },
    {
      "cell_type": "code",
      "source": [
        "from operator import itemgetter\n",
        "\n",
        "topic_getter = itemgetter(\"topic\")\n",
        "topic = topic_getter({\"topic\": \"生成AIの進化について\"})\n",
        "print(topic)\n",
        "\n"
      ],
      "metadata": {
        "id": "wxxWqCB3hkrp",
        "colab": {
          "base_uri": "https://localhost:8080/"
        },
        "outputId": "495df13b-1d4b-4a97-f988-d710c07d9b66"
      },
      "execution_count": null,
      "outputs": [
        {
          "output_type": "stream",
          "name": "stdout",
          "text": [
            "生成AIの進化について\n"
          ]
        }
      ]
    },
    {
      "cell_type": "code",
      "source": [
        "from operator import itemgetter\n",
        "\n",
        "synthesize_prompt = ChatPromptTemplate.from_messages(\n",
        "    [\n",
        "        (\"system\", \"あなたは客観的AIです。{topic}について２つの意見をまとめてください。\"),\n",
        "        (\"human\", \"楽観的意見:{optimistic_opinion}\\n悲観的意見:{pessimistic_opinion}\"),\n",
        "    ]\n",
        ")\n",
        "\n",
        "synthesize_chain =  (\n",
        "    {\n",
        "        \"optimistic_opinion\":optimistic_chain,\n",
        "        \"pessimistic_opinion\":pessimistic_chain,\n",
        "        \"topic\":itemgetter(\"topic\"),\n",
        "    }\n",
        "    | synthesize_prompt\n",
        "    | model\n",
        "    | output_parser\n",
        ")\n",
        "\n",
        "output = synthesize_chain.invoke({\"topic\": \"生成AIの進化について\"})\n",
        "print(output)"
      ],
      "metadata": {
        "colab": {
          "base_uri": "https://localhost:8080/"
        },
        "id": "evdTp0oRo5VX",
        "outputId": "2b4caa2b-ef05-4efb-89f3-3ebc6e84d441"
      },
      "execution_count": null,
      "outputs": [
        {
          "output_type": "stream",
          "name": "stdout",
          "text": [
            "生成AIの進化に関する意見は、楽観的な見方と悲観的な見方の二つに分かれます。\n",
            "\n",
            "**楽観的意見**では、生成AIの進化が私たちの生活を便利で豊かにする可能性を強調しています。技術の進歩により、クリエイティブな作業や問題解決の支援が行われ、AIがアイデアを実現するためのパートナーとして機能することが期待されています。また、教育、医療、エンターテインメントなどの分野での革新が進むことで、より多くの人々が新しい知識や体験にアクセスでき、社会全体の進化が促進されることにワクワク感を抱いています。将来的には、AIと人間が協力してより良い世界を築く可能性があると考えています。\n",
            "\n",
            "**悲観的意見**では、生成AIの進化に伴うリスクや懸念が指摘されています。技術の進化が仕事の喪失や情報の信頼性の低下を引き起こす可能性があり、AIが生成するコンテンツが人間の創造性を脅かすことも懸念されています。また、AIの影響が私たちの思考や感情に悪影響を及ぼす可能性があり、便利さの裏には不安がつきまとい、未来が不透明になるのではないかという懸念が表明されています。\n",
            "\n",
            "このように、生成AIの進化には明るい未来を期待する声と、リスクを警戒する声が共存しています。\n"
          ]
        }
      ]
    },
    {
      "cell_type": "markdown",
      "source": [
        "## 5.4 RunnablePassthrough--入力をそのまま出力する"
      ],
      "metadata": {
        "id": "9bg5PoEYqbdz"
      }
    },
    {
      "cell_type": "code",
      "source": [
        "import os\n",
        "from google.colab import userdata\n",
        "\n",
        "os.environ[\"TAVILY_API_KEY\"] = userdata.get(\"TAVILY_API_KEY\")\n"
      ],
      "metadata": {
        "id": "pGdU8doFr6I0"
      },
      "execution_count": null,
      "outputs": []
    },
    {
      "cell_type": "code",
      "source": [
        "!pip install tavily-python==0.5.0"
      ],
      "metadata": {
        "colab": {
          "base_uri": "https://localhost:8080/"
        },
        "id": "s3VHNqfisLIn",
        "outputId": "7e596070-c85c-4f56-b19d-2191a33c6220"
      },
      "execution_count": null,
      "outputs": [
        {
          "output_type": "stream",
          "name": "stdout",
          "text": [
            "Collecting tavily-python==0.5.0\n",
            "  Downloading tavily_python-0.5.0-py3-none-any.whl.metadata (11 kB)\n",
            "Requirement already satisfied: requests in /usr/local/lib/python3.11/dist-packages (from tavily-python==0.5.0) (2.32.3)\n",
            "Collecting tiktoken>=0.5.1 (from tavily-python==0.5.0)\n",
            "  Downloading tiktoken-0.8.0-cp311-cp311-manylinux_2_17_x86_64.manylinux2014_x86_64.whl.metadata (6.6 kB)\n",
            "Requirement already satisfied: httpx in /usr/local/lib/python3.11/dist-packages (from tavily-python==0.5.0) (0.28.1)\n",
            "Requirement already satisfied: regex>=2022.1.18 in /usr/local/lib/python3.11/dist-packages (from tiktoken>=0.5.1->tavily-python==0.5.0) (2024.11.6)\n",
            "Requirement already satisfied: charset-normalizer<4,>=2 in /usr/local/lib/python3.11/dist-packages (from requests->tavily-python==0.5.0) (3.4.1)\n",
            "Requirement already satisfied: idna<4,>=2.5 in /usr/local/lib/python3.11/dist-packages (from requests->tavily-python==0.5.0) (3.10)\n",
            "Requirement already satisfied: urllib3<3,>=1.21.1 in /usr/local/lib/python3.11/dist-packages (from requests->tavily-python==0.5.0) (2.3.0)\n",
            "Requirement already satisfied: certifi>=2017.4.17 in /usr/local/lib/python3.11/dist-packages (from requests->tavily-python==0.5.0) (2024.12.14)\n",
            "Requirement already satisfied: anyio in /usr/local/lib/python3.11/dist-packages (from httpx->tavily-python==0.5.0) (3.7.1)\n",
            "Requirement already satisfied: httpcore==1.* in /usr/local/lib/python3.11/dist-packages (from httpx->tavily-python==0.5.0) (1.0.7)\n",
            "Requirement already satisfied: h11<0.15,>=0.13 in /usr/local/lib/python3.11/dist-packages (from httpcore==1.*->httpx->tavily-python==0.5.0) (0.14.0)\n",
            "Requirement already satisfied: sniffio>=1.1 in /usr/local/lib/python3.11/dist-packages (from anyio->httpx->tavily-python==0.5.0) (1.3.1)\n",
            "Downloading tavily_python-0.5.0-py3-none-any.whl (14 kB)\n",
            "Downloading tiktoken-0.8.0-cp311-cp311-manylinux_2_17_x86_64.manylinux2014_x86_64.whl (1.2 MB)\n",
            "\u001b[2K   \u001b[90m━━━━━━━━━━━━━━━━━━━━━━━━━━━━━━━━━━━━━━━━\u001b[0m \u001b[32m1.2/1.2 MB\u001b[0m \u001b[31m39.4 MB/s\u001b[0m eta \u001b[36m0:00:00\u001b[0m\n",
            "\u001b[?25hInstalling collected packages: tiktoken, tavily-python\n",
            "Successfully installed tavily-python-0.5.0 tiktoken-0.8.0\n"
          ]
        }
      ]
    },
    {
      "cell_type": "code",
      "source": [
        "!pip install langchain-community==0.3.0"
      ],
      "metadata": {
        "colab": {
          "base_uri": "https://localhost:8080/"
        },
        "id": "XRt5I3PPt-YD",
        "outputId": "d312b837-4a8d-496b-af79-83ccef677c98"
      },
      "execution_count": null,
      "outputs": [
        {
          "output_type": "stream",
          "name": "stdout",
          "text": [
            "Collecting langchain-community==0.3.0\n",
            "  Downloading langchain_community-0.3.0-py3-none-any.whl.metadata (2.8 kB)\n",
            "Requirement already satisfied: PyYAML>=5.3 in /usr/local/lib/python3.11/dist-packages (from langchain-community==0.3.0) (6.0.2)\n",
            "Requirement already satisfied: SQLAlchemy<3,>=1.4 in /usr/local/lib/python3.11/dist-packages (from langchain-community==0.3.0) (2.0.37)\n",
            "Requirement already satisfied: aiohttp<4.0.0,>=3.8.3 in /usr/local/lib/python3.11/dist-packages (from langchain-community==0.3.0) (3.11.11)\n",
            "Collecting dataclasses-json<0.7,>=0.5.7 (from langchain-community==0.3.0)\n",
            "  Downloading dataclasses_json-0.6.7-py3-none-any.whl.metadata (25 kB)\n",
            "Requirement already satisfied: langchain<0.4.0,>=0.3.0 in /usr/local/lib/python3.11/dist-packages (from langchain-community==0.3.0) (0.3.14)\n",
            "Requirement already satisfied: langchain-core<0.4.0,>=0.3.0 in /usr/local/lib/python3.11/dist-packages (from langchain-community==0.3.0) (0.3.29)\n",
            "Collecting langsmith<0.2.0,>=0.1.112 (from langchain-community==0.3.0)\n",
            "  Downloading langsmith-0.1.147-py3-none-any.whl.metadata (14 kB)\n",
            "Requirement already satisfied: numpy<2,>=1 in /usr/local/lib/python3.11/dist-packages (from langchain-community==0.3.0) (1.26.4)\n",
            "Collecting pydantic-settings<3.0.0,>=2.4.0 (from langchain-community==0.3.0)\n",
            "  Downloading pydantic_settings-2.7.1-py3-none-any.whl.metadata (3.5 kB)\n",
            "Requirement already satisfied: requests<3,>=2 in /usr/local/lib/python3.11/dist-packages (from langchain-community==0.3.0) (2.32.3)\n",
            "Collecting tenacity!=8.4.0,<9.0.0,>=8.1.0 (from langchain-community==0.3.0)\n",
            "  Downloading tenacity-8.5.0-py3-none-any.whl.metadata (1.2 kB)\n",
            "Requirement already satisfied: aiohappyeyeballs>=2.3.0 in /usr/local/lib/python3.11/dist-packages (from aiohttp<4.0.0,>=3.8.3->langchain-community==0.3.0) (2.4.4)\n",
            "Requirement already satisfied: aiosignal>=1.1.2 in /usr/local/lib/python3.11/dist-packages (from aiohttp<4.0.0,>=3.8.3->langchain-community==0.3.0) (1.3.2)\n",
            "Requirement already satisfied: attrs>=17.3.0 in /usr/local/lib/python3.11/dist-packages (from aiohttp<4.0.0,>=3.8.3->langchain-community==0.3.0) (24.3.0)\n",
            "Requirement already satisfied: frozenlist>=1.1.1 in /usr/local/lib/python3.11/dist-packages (from aiohttp<4.0.0,>=3.8.3->langchain-community==0.3.0) (1.5.0)\n",
            "Requirement already satisfied: multidict<7.0,>=4.5 in /usr/local/lib/python3.11/dist-packages (from aiohttp<4.0.0,>=3.8.3->langchain-community==0.3.0) (6.1.0)\n",
            "Requirement already satisfied: propcache>=0.2.0 in /usr/local/lib/python3.11/dist-packages (from aiohttp<4.0.0,>=3.8.3->langchain-community==0.3.0) (0.2.1)\n",
            "Requirement already satisfied: yarl<2.0,>=1.17.0 in /usr/local/lib/python3.11/dist-packages (from aiohttp<4.0.0,>=3.8.3->langchain-community==0.3.0) (1.18.3)\n",
            "Collecting marshmallow<4.0.0,>=3.18.0 (from dataclasses-json<0.7,>=0.5.7->langchain-community==0.3.0)\n",
            "  Downloading marshmallow-3.26.0-py3-none-any.whl.metadata (7.3 kB)\n",
            "Collecting typing-inspect<1,>=0.4.0 (from dataclasses-json<0.7,>=0.5.7->langchain-community==0.3.0)\n",
            "  Downloading typing_inspect-0.9.0-py3-none-any.whl.metadata (1.5 kB)\n",
            "Requirement already satisfied: langchain-text-splitters<0.4.0,>=0.3.3 in /usr/local/lib/python3.11/dist-packages (from langchain<0.4.0,>=0.3.0->langchain-community==0.3.0) (0.3.5)\n",
            "Requirement already satisfied: pydantic<3.0.0,>=2.7.4 in /usr/local/lib/python3.11/dist-packages (from langchain<0.4.0,>=0.3.0->langchain-community==0.3.0) (2.10.5)\n",
            "Requirement already satisfied: jsonpatch<2.0,>=1.33 in /usr/local/lib/python3.11/dist-packages (from langchain-core<0.4.0,>=0.3.0->langchain-community==0.3.0) (1.33)\n",
            "Requirement already satisfied: packaging<25,>=23.2 in /usr/local/lib/python3.11/dist-packages (from langchain-core<0.4.0,>=0.3.0->langchain-community==0.3.0) (24.2)\n",
            "Requirement already satisfied: typing-extensions>=4.7 in /usr/local/lib/python3.11/dist-packages (from langchain-core<0.4.0,>=0.3.0->langchain-community==0.3.0) (4.12.2)\n",
            "Requirement already satisfied: httpx<1,>=0.23.0 in /usr/local/lib/python3.11/dist-packages (from langsmith<0.2.0,>=0.1.112->langchain-community==0.3.0) (0.28.1)\n",
            "Requirement already satisfied: orjson<4.0.0,>=3.9.14 in /usr/local/lib/python3.11/dist-packages (from langsmith<0.2.0,>=0.1.112->langchain-community==0.3.0) (3.10.14)\n",
            "Requirement already satisfied: requests-toolbelt<2.0.0,>=1.0.0 in /usr/local/lib/python3.11/dist-packages (from langsmith<0.2.0,>=0.1.112->langchain-community==0.3.0) (1.0.0)\n",
            "Collecting python-dotenv>=0.21.0 (from pydantic-settings<3.0.0,>=2.4.0->langchain-community==0.3.0)\n",
            "  Downloading python_dotenv-1.0.1-py3-none-any.whl.metadata (23 kB)\n",
            "Requirement already satisfied: charset-normalizer<4,>=2 in /usr/local/lib/python3.11/dist-packages (from requests<3,>=2->langchain-community==0.3.0) (3.4.1)\n",
            "Requirement already satisfied: idna<4,>=2.5 in /usr/local/lib/python3.11/dist-packages (from requests<3,>=2->langchain-community==0.3.0) (3.10)\n",
            "Requirement already satisfied: urllib3<3,>=1.21.1 in /usr/local/lib/python3.11/dist-packages (from requests<3,>=2->langchain-community==0.3.0) (2.3.0)\n",
            "Requirement already satisfied: certifi>=2017.4.17 in /usr/local/lib/python3.11/dist-packages (from requests<3,>=2->langchain-community==0.3.0) (2024.12.14)\n",
            "Requirement already satisfied: greenlet!=0.4.17 in /usr/local/lib/python3.11/dist-packages (from SQLAlchemy<3,>=1.4->langchain-community==0.3.0) (3.1.1)\n",
            "Requirement already satisfied: anyio in /usr/local/lib/python3.11/dist-packages (from httpx<1,>=0.23.0->langsmith<0.2.0,>=0.1.112->langchain-community==0.3.0) (3.7.1)\n",
            "Requirement already satisfied: httpcore==1.* in /usr/local/lib/python3.11/dist-packages (from httpx<1,>=0.23.0->langsmith<0.2.0,>=0.1.112->langchain-community==0.3.0) (1.0.7)\n",
            "Requirement already satisfied: h11<0.15,>=0.13 in /usr/local/lib/python3.11/dist-packages (from httpcore==1.*->httpx<1,>=0.23.0->langsmith<0.2.0,>=0.1.112->langchain-community==0.3.0) (0.14.0)\n",
            "Requirement already satisfied: jsonpointer>=1.9 in /usr/local/lib/python3.11/dist-packages (from jsonpatch<2.0,>=1.33->langchain-core<0.4.0,>=0.3.0->langchain-community==0.3.0) (3.0.0)\n",
            "Requirement already satisfied: annotated-types>=0.6.0 in /usr/local/lib/python3.11/dist-packages (from pydantic<3.0.0,>=2.7.4->langchain<0.4.0,>=0.3.0->langchain-community==0.3.0) (0.7.0)\n",
            "Requirement already satisfied: pydantic-core==2.27.2 in /usr/local/lib/python3.11/dist-packages (from pydantic<3.0.0,>=2.7.4->langchain<0.4.0,>=0.3.0->langchain-community==0.3.0) (2.27.2)\n",
            "Collecting mypy-extensions>=0.3.0 (from typing-inspect<1,>=0.4.0->dataclasses-json<0.7,>=0.5.7->langchain-community==0.3.0)\n",
            "  Downloading mypy_extensions-1.0.0-py3-none-any.whl.metadata (1.1 kB)\n",
            "Requirement already satisfied: sniffio>=1.1 in /usr/local/lib/python3.11/dist-packages (from anyio->httpx<1,>=0.23.0->langsmith<0.2.0,>=0.1.112->langchain-community==0.3.0) (1.3.1)\n",
            "Downloading langchain_community-0.3.0-py3-none-any.whl (2.3 MB)\n",
            "\u001b[2K   \u001b[90m━━━━━━━━━━━━━━━━━━━━━━━━━━━━━━━━━━━━━━━━\u001b[0m \u001b[32m2.3/2.3 MB\u001b[0m \u001b[31m30.5 MB/s\u001b[0m eta \u001b[36m0:00:00\u001b[0m\n",
            "\u001b[?25hDownloading dataclasses_json-0.6.7-py3-none-any.whl (28 kB)\n",
            "Downloading langsmith-0.1.147-py3-none-any.whl (311 kB)\n",
            "\u001b[2K   \u001b[90m━━━━━━━━━━━━━━━━━━━━━━━━━━━━━━━━━━━━━━━━\u001b[0m \u001b[32m311.8/311.8 kB\u001b[0m \u001b[31m19.6 MB/s\u001b[0m eta \u001b[36m0:00:00\u001b[0m\n",
            "\u001b[?25hDownloading pydantic_settings-2.7.1-py3-none-any.whl (29 kB)\n",
            "Downloading tenacity-8.5.0-py3-none-any.whl (28 kB)\n",
            "Downloading marshmallow-3.26.0-py3-none-any.whl (50 kB)\n",
            "\u001b[2K   \u001b[90m━━━━━━━━━━━━━━━━━━━━━━━━━━━━━━━━━━━━━━━━\u001b[0m \u001b[32m50.8/50.8 kB\u001b[0m \u001b[31m4.0 MB/s\u001b[0m eta \u001b[36m0:00:00\u001b[0m\n",
            "\u001b[?25hDownloading python_dotenv-1.0.1-py3-none-any.whl (19 kB)\n",
            "Downloading typing_inspect-0.9.0-py3-none-any.whl (8.8 kB)\n",
            "Downloading mypy_extensions-1.0.0-py3-none-any.whl (4.7 kB)\n",
            "Installing collected packages: tenacity, python-dotenv, mypy-extensions, marshmallow, typing-inspect, pydantic-settings, langsmith, dataclasses-json, langchain-community\n",
            "  Attempting uninstall: tenacity\n",
            "    Found existing installation: tenacity 9.0.0\n",
            "    Uninstalling tenacity-9.0.0:\n",
            "      Successfully uninstalled tenacity-9.0.0\n",
            "  Attempting uninstall: langsmith\n",
            "    Found existing installation: langsmith 0.2.10\n",
            "    Uninstalling langsmith-0.2.10:\n",
            "      Successfully uninstalled langsmith-0.2.10\n",
            "Successfully installed dataclasses-json-0.6.7 langchain-community-0.3.0 langsmith-0.1.147 marshmallow-3.26.0 mypy-extensions-1.0.0 pydantic-settings-2.7.1 python-dotenv-1.0.1 tenacity-8.5.0 typing-inspect-0.9.0\n"
          ]
        }
      ]
    },
    {
      "cell_type": "code",
      "source": [
        "from langchain_core.prompts import ChatPromptTemplate\n",
        "from langchain_openai import ChatOpenAI\n",
        "\n",
        "prompt = ChatPromptTemplate.from_template('''\\\n",
        "以下の文脈だけを踏まえて質問に回答してください。\n",
        "\n",
        "文脈:\"\"\"\n",
        "{context}\n",
        "\"\"\"\n",
        "\n",
        "質問:{question}\n",
        "''')\n",
        "\n",
        "model = ChatOpenAI(model=\"gpt-4o-mini\", temperature=0)\n",
        "\n",
        "from langchain_community.retrievers import TavilySearchAPIRetriever\n",
        "\n",
        "retriever = TavilySearchAPIRetriever(k=3)\n",
        "\n",
        "from langchain_core.runnables import RunnablePassthrough\n",
        "\n",
        "chain = (\n",
        "    {\"context\": retriever, \"question\": RunnablePassthrough()}\n",
        "    | prompt\n",
        "    | model\n",
        "    | StrOutputParser()\n",
        ")\n",
        "\n",
        "#output = chain.invoke(\"東京の今日の天気は？\")\n",
        "output = chain.invoke(\"今日のニュースは？\")\n",
        "print(output)"
      ],
      "metadata": {
        "colab": {
          "base_uri": "https://localhost:8080/"
        },
        "id": "XDATM6wmslyB",
        "outputId": "33bf8c51-d1e9-41b2-8055-99882c53e816"
      },
      "execution_count": null,
      "outputs": [
        {
          "output_type": "stream",
          "name": "stdout",
          "text": [
            "今日のニュースには、以下のトピックスが含まれています：\n",
            "\n",
            "1. 自転車で信号無視の10歳児が車と衝突し、「過失割合100％」と認定され、保護者に賠償リスクがあるというニュース。\n",
            "2. 斎藤元彦氏に対する証人尋問への出頭要請が決定されたこと。\n",
            "3. 立花氏が脅されたと訴え、ネットの暴力についての議論が起きていること。\n",
            "4. 埼玉栄高校で無免許運転が常態化していた可能性があるという報道。\n",
            "5. 避妊目的の子宮内避妊用具の挿入手術に関する女性たちの訴え。\n",
            "\n",
            "これらのニュースは、政治、社会、教育など多岐にわたる内容が含まれています。\n"
          ]
        }
      ]
    },
    {
      "cell_type": "markdown",
      "source": [
        "### assign--RunnableParallelの出力に値を追加する"
      ],
      "metadata": {
        "id": "gIEopY_yw5GI"
      }
    },
    {
      "cell_type": "code",
      "source": [
        "import pprint\n",
        "\n",
        "chain = {\n",
        "    \"question\": RunnablePassthrough(),\n",
        "    \"context\": retriever\n",
        "} | RunnablePassthrough.assign(answer=prompt | model | StrOutputParser())\n",
        "\n",
        "output = chain.invoke(\"東京の今日の天気は？\")\n",
        "pprint.pprint(output)"
      ],
      "metadata": {
        "colab": {
          "base_uri": "https://localhost:8080/"
        },
        "id": "qTdCnk8kxZos",
        "outputId": "0d47d853-4fd5-491b-ee87-d0bff7c6b6dd"
      },
      "execution_count": null,
      "outputs": [
        {
          "output_type": "stream",
          "name": "stdout",
          "text": [
            "{'answer': '東京の今日、11月19日(火)の天気は「晴時々曇」で、最高気温は13℃、最低気温は8℃です。降水確率は0％で、北の風が吹く予報です。',\n",
            " 'context': [Document(metadata={'title': '東京（東京）の天気 - Yahoo!天気・災害', 'source': 'https://weather.yahoo.co.jp/weather/jp/13/4410.html', 'score': 0.8437023, 'images': []}, page_content='パーソナル天気 現在位置： 天気・災害トップ > 関東・信越 > 東京都 > 東京（東京） 今日明日の天気 2024年11月19日 4時00分発表 11月19日(火) 晴時々曇 13℃[-7] 8℃[-3] 時間  0-6 6-12    12-18   18-24 降水  0％  0％  0％  0％ 風： 北の風後北東の風２３区西部では北の風やや強く 波： 1.5メートル後0.5メートル 11月20日(水) 曇のち雨 12℃[-1] 7℃[-1] 時間  0-6 6-12    12-18   18-24 降水  0％  10％ 30％ 60％ 風： 北西の風後東の風 波： 0.5メートル 東京地方の警報・注意報 注意報 強風、波浪 週間天気 2024年11月19日 2時00分発表 日付 11月21日 (木) 11月22日 (金) 11月23日 (土) 11月24日 (日) 11月25日 (月) 11月26日 (火) 天気 雨のち晴   晴時々曇   晴時々曇   晴時々曇   晴時々曇   曇一時雨 気温（℃）   14 降水 確率（％）   60  0   0   0   10  50 2024年11月19日 4時00分 発表 (C) Mapbox (C) OpenStreetMap (C) LY Corporation Yahoo!地図ガイドライン (C) Mapbox (C) OpenStreetMap (C) LY Corporation Yahoo!地図ガイドライン 11/18(月)18時\\u3000師走の寒さ\\u3000今季一番低く\\u3000北日本中心に積雪増加も Copyright (C) 2024 Weather Map Co., Ltd. All Rights Reserved. © LY Corporation'),\n",
            "             Document(metadata={'title': '【一番当たる】東京の最新天気 (1時間・今日明日・週間) - ウェザーニュース', 'source': 'http://www.jp-weathernews.com/v/wl/35.6777222222222/139.770527777778/q=東京&v=f02d60103eebddd4b43e66485464fc491ef1c14596ce3f73dcdd050eaf83551e&lang=ja', 'score': 0.8361405, 'images': []}, page_content='10℃\\n4m\\n15\\n0\\n11℃\\n4m\\n16\\n0\\n11℃\\n4m\\n17\\n0\\n11℃\\n5m\\n18\\n0\\n12℃\\n6m\\n19\\n0\\n11℃\\n7m\\n20\\n0\\n11℃\\n7m\\n21\\n0\\n9℃\\n7m\\n22\\n0\\n9℃\\n6m\\n23\\n0\\n9℃\\n5m\\n日\\n天気\\n気温\\n降水\\n確率\\n1月20日（土）\\n最高8℃\\n最低5℃\\n~6時\\n-%\\n~12時\\n-%\\n~18時\\n70%\\n~24時\\n70%\\n1月21日（日）\\n最高12℃\\n最低5℃\\n~6時\\n90%\\n~12時\\n100%\\n~18時\\n100%\\n~24時\\n50%\\n天気下り坂\\u3000寒さが戻る\\n今日は天気が下り坂で、段々と雨が降り出します。出かける時に雨が降っていなくても傘を持って。寒さが戻り、昼間も万全な防寒が必須です。\\n日\\n天気\\n最高\\n最低\\n降水\\n21(日)\\n12℃\\n5℃\\n80%\\n22(月)\\n13℃\\n7℃\\n30%\\n23(火)\\n12℃\\n5℃\\n30%\\n24(水)\\n9℃\\n2℃\\n20%\\n25(木)\\n10℃\\n0℃\\n20%\\n26(金)\\n11℃\\n2℃\\n20%\\n27(土)\\n12℃\\n3℃\\n20%\\n28(日)\\n12℃\\n3℃\\n20%\\n29(月)\\n13℃\\n3℃\\n20%\\n30(火)\\n12℃\\n4℃\\n40%\\n天気は周期変化\\u3000体調管理を\\n天気は周期的に変化します。傘の出番となり、本降りの雨となる日もあります。日ごとや一日の気温変化が大きいため、体調管理にお気を付けください。\\nお天気ニュース\\n関東甲信の山間部で大雪のおそれ\\u3000東京23区など平野部は雨\\n2024.01.20 10:52\\n西日本や東日本は広く雨に\\u3000甲信など東日本内陸部は積雪急増に警戒\\n2024.01.20 10:30\\n正に「大寒」\\u3000北海道江丹別で今冬全国最低気温の－28.5℃観測\\n2024.01.20 09:46\\nお天気ニュースをもっと読む →\\n東京付近の天気\\n雨雲レーダー\\n地図を拡大\\n観測値データ\\nグラフ\\n11:40\\n空の写真\\nライブ動画番組\\n【ライブ放送中】最新地震・気象情報\\u3000ウェザーニュースLiVE\\n東京付近の観測値\\n(℃)\\n(m/s)\\n(mm/h)\\n(分)\\n続きを見る\\n生活指数\\nビール\\n良い\\n犬猫散歩\\n最高\\n火の用心\\n心配なさそう\\n水道管凍結\\n可能性低い\\nフルーツ狩り\\n少し残念\\n布団干し\\nまあまあ\\n熱中症\\n大丈夫そう\\nアイスクリーム\\n残念\\nジョギング\\n最高\\n風邪ひき\\n心配なさそう\\nお出かけ\\n良い\\nお花見\\n最高\\n花粉\\n少ない\\n虹発見\\n難しそう\\nスポーツ\\n最高\\n夕焼け\\n難しそう\\n傘\\n折り畳み傘\\n紫外線\\n普通\\n寒さ体感\\n寒い\\n天気マップアニメーション\\n<\\n気圧\\n気温\\n>\\nお天気ニュース\\n北陸は次第に雨が降り出す\\u3000新たな土砂災害の発生に警戒を\\n2024.01.20 07:23\\n今日20日(土)の天気予報\\u3000西日本や東日本は雨\\u3000甲信や関東山沿いは積雪への備えを\\n2024.01.20 05:02\\n週間天気\\u3000日曜にかけ広く雨や雪\\u3000来週は日本海側で大雪のおそれ\\n2024.01.20 05:24\\nお天気キャスター解説\\u30001月20日(土)の天気\\n2024.01.20 06:16\\nひと目でわかる傘マップ\\u30001月20日(土)\\n 天気予報\\n天気予報を検索\\nNEWS\\n最新のニュースを読み込んでいます。\\n東京\\n1時間ごと\\n今日明日\\n週間(10日間)\\n日\\n時\\n天気\\n降水\\n気温\\n風\\n20日（土）\\n12\\n1ミリ\\n7℃\\n2m\\n13\\n0.5ミリ\\n8℃\\n2m\\n14\\n0.5ミリ\\n8℃\\n2m\\n15\\n0\\n7℃\\n2m\\n16\\n0\\n6℃\\n2m\\n17\\n1ミリ\\n6℃\\n2m\\n18\\n1ミリ\\n6℃\\n2m\\n19\\n1ミリ\\n5℃\\n2m\\n20\\n1ミリ\\n5℃\\n2m\\n21\\n1ミリ\\n5℃\\n2m\\n22\\n1ミリ\\n5℃\\n2m\\n23\\n1ミリ\\n5℃\\n2m\\n21日（日）\\n0\\n2ミリ\\n5℃\\n2m\\n1\\n2ミリ\\n5℃\\n2m\\n2\\n2ミリ\\n5℃\\n2m\\n3\\n2ミリ\\n5℃\\n2m\\n4\\n2ミリ\\n5℃\\n2m\\n5\\n3ミリ\\n6℃\\n2m\\n6\\n4ミリ\\n6℃\\n2m\\n7\\n5ミリ\\n6℃\\n2m\\n8\\n7ミリ\\n7℃\\n2m\\n9\\n8ミリ\\n9℃\\n2m\\n10\\n7ミリ\\n9℃\\n3m\\n11\\n2ミリ\\n9℃\\n3m\\n12\\n0\\n9℃\\n4m\\n13\\n0\\n10℃\\n4m\\n14\\n0\\n 05:32\\nお天気ニュースをもっと読む →\\nいまおすすめのメニュー\\n雨雲レーダー\\n雨雲の動きと予想を確認\\nウェザーリポート\\n全国から届くお天気リポート\\n防災・減災メニュー\\n天気メニュー\\nウェザーニュース 2024.01.20'),\n",
            "             Document(metadata={'title': '東京都の天気 - 日本気象協会 tenki.jp', 'source': 'https://tenki.jp/forecast/3/16/', 'score': 0.7062922, 'images': []}, page_content='東京都の天気 - 日本気象協会 tenki.jp tenki.jpトップ｜ サイトマップ｜ ヘルプ tenki.jp 雨雲レーダー PM2.5分布予測 雷(予報) 雨雲レーダー(過去) 雷(実況) 気象予報士のポイント解説 雨雲レーダー PM2.5分布予測 19(火) 24(日) 25(月) 26(火) 19日04:00発表11月19日(火) 千代田区  12/7 20% 新宿区  12/7 20% 世田谷区  12/7 20% 三鷹市  12/6 20% 八王子市  13/5 20% 青梅市  13/5 20% 大島町  12/10 20% 八丈町  16/14 70% 小笠原村  24/24 50% 練馬区  12/6 20% 台東区  12/7 20% 品川区  12/8 20% 町田市  12/6 20% 立川市  12/6 20% 気象予報士のポイント解説(日直予報士) 19日 北海道や東北は積雪や路面凍結に注意 関東～九州は晴れても北風冷たい 11/19(火)05:45 19日は今季一番の冷え込み 東京や名古屋6℃前後 日中も師走並み 冬の便り続々か 11/18(月)18:05 秋田で初雪 明日19日朝にかけて北日本で雪強まる所も 積雪や路面の凍結に注意 11/18(月)17:36 雨雲 PM2.5 1位高尾山東京都 色づき始め 2位明治神宮外苑東京都 色づき始め 5位上野恩賜公園東京都 色づき始め tenki.jpの公式X（旧Twitter） 最新の気象・防災情報や、生活に役立つ情報を毎日リアルタイムに配信中！ 雨雲レーダー PM2.5 雷(予報) 雨雲レーダー(過去) 雷(実況) tenki.jp公式SNS tenki.jp公式アプリ tenki.jp tenki.jp 登山天気 tenki.jpトップ 雨雲レーダー PM2.5分布予測 雷(予報) 雨雲(過去) 雷(実況) 花粉飛散情報(1～5月頃) 桜開花情報(2～5月頃) GWの天気(4～5月頃) 梅雨入り・明け(5～7月頃) 熱中症情報(4～9月頃) 紅葉見頃情報(10～11月頃) ヒートショック(10～3月頃) スキー積雪情報(11～5月頃) 初日の出(12～1月頃) Copyright (C) 2024 日本気象協会 All Rights Reserved.')],\n",
            " 'question': '東京の今日の天気は？'}\n"
          ]
        }
      ]
    },
    {
      "cell_type": "code",
      "source": [
        "chain = (\n",
        "    RunnableParallel(\n",
        "      {\n",
        "        \"question\": RunnablePassthrough(),\n",
        "        \"context\": retriever\n",
        "      }\n",
        "  )\n",
        "  .assign(answer=prompt | model | StrOutputParser())\n",
        "  #.pick([\"context\", \"answer\"])\n",
        ")\n",
        "output = chain.invoke(\"東京の今日の天気は？\")\n",
        "pprint.pprint(output)"
      ],
      "metadata": {
        "colab": {
          "base_uri": "https://localhost:8080/"
        },
        "id": "HoS7gDrRsqLW",
        "outputId": "3521bdce-15ea-43b0-bfa0-33d12e3ffd30"
      },
      "execution_count": null,
      "outputs": [
        {
          "output_type": "stream",
          "name": "stdout",
          "text": [
            "{'answer': '東京の今日、10月27日（日）の天気は、最高気温24℃、最低気温17℃で、降水確率は50%です。',\n",
            " 'context': [Document(metadata={'title': '東京都の天気（今日・明日の天気） | @nifty天気予報', 'source': 'https://weather.nifty.com/prefecture/13', 'score': 0.86052185, 'images': []}, page_content='東京都の天気（今日・明日の天気） | @nifty天気予報 @niftyトップ 今日・明日の天気 サイトマップ MY天気 地震情報台風情報警報・注意報花粉情報洗濯指数傘指数衛星画像天気図 スポーツレジャー観光地公共施設 全国の天気 東京都 台風20号、21号発生中 東京都の天気 今日の天気10月27日(日) 明日の天気10月28日(月) 東京  24/17 50% 大島  23/19 50% 八丈島  25/21 40% 父島  29/26 30% 港区 目黒区 大田区 世田谷区 墨田区 江東区 荒川区 足立区 葛飾区 日野市 多摩市 稲城市 多摩北部 三鷹市 昭島市 小平市 東村山市 東大和市 清瀬市 青梅市 大島 八丈島 東京  21/17 70% 大島  21/21 70% 八丈島  26/23 70% 父島  29/26 40% 港区 目黒区 大田区 世田谷区 墨田区 江東区 荒川区 足立区 葛飾区 日野市 多摩市 稲城市 多摩北部 三鷹市 昭島市 東村山市 東大和市 清瀬市 青梅市 大島 八丈島 栃木県 群馬県 東京都 長崎県 熊本県 大分県 宮崎県 沖縄県 お天気豆知識 ### 音速 秋が深まり気温も下がってくると、夏、元気に鳴いていた虫たちの声も次第に聞こえなくなります。特に夜などはひっそりとした静けさを感じることでしょう。皆さんは、気温の変化が音の伝わる速さにも影響する、ということを知っていますか。空気中では、気温が高いほど音は速く伝わります。また、気圧も音速に影響を与えますが、無視できるほど小さなものです。一方、地上のようには電波の伝わらない海中においては、音は空気中よりも速く伝わり、重要な通信手段となっています。水中では、水温が高いほど音速は速くなり、水圧が高くても速く伝わるようになります。つまり、海面付近の日射を受けて暖かいところと、大きな水圧のかかっている深海が、海の中では音速の速い領域となっているのです。音はそれが伝わっていく物質が密なほど速くなる、といった性質があります。そのため、一般には軽い空気よりも重たい水の中のほうが音を速く伝えるのです。空気中での音速は、通常、秒速３４０メートルですが、水中での音速は、秒速１５００メートル。空気中の４倍以上というすさまじい速さで伝わっていくのです。 ### ウエザーマーケティング 私達が毎日のように利用しているスーパーやコンビニの商品の中には、気温や天気、季節によってその売れゆきが大きく変わってくるものがあります。例えば、水着やスキー用品などの季節商品や、セーターやコートなどの衣類、野菜や飲み物などがそうです。当然、お店では、消費者が買いたいと思う時期に最適な商品を提供したいと考えています。その際、気象情報を活用しながら、販売計画を立てたり、商品の仕入れや在庫の管理などを工夫することを、「ウェザーマーケティング」と言います。天気や降水確率、体感温度などを商品の販売活動に活用することにより、むだを防ぎ、売り上げを上げるチャンスを知ることができるのです。さらに、ウェザーマーケティングは、仕入れや在庫管理などの販売計画だけでなく、店鋪の人員配置、売り場作り、プロモーション計画などにも役立てることができます。このように、気象情報はテレビで見ている天気予報だけでなく、流通の業界にもさまざまな形で活用されているのです。 ### ゴルフボールのしくみ スポーツの秋です。ゴルフを楽しむ方も多いでしょう。一見ただの小さな円球に思えるゴルフボールですが、その中には最先端のテクノロジーがつまっています。表面にあるへこみはディンプルといって、単なる飾りではありません。ディンプルには空気抵抗を減らして、揚力を増やす効果があり、ボールが遠くまで飛ぶための翼の役割をします。また、ゴルフボールは大きく分けて、糸巻きボールとソリッドボールがありますが、現在はソリッドボールが市場のほとんどを占めています。ソリッドボールは反発力の強い合成ゴムでできていて、インパクト時のエネルギーを飛距離につなげる仕組みになっています。少しでも飛距離がのびるよう、小さなボールにいろいろな工夫があるのですね。 花粉情報 洗濯指数 傘指数 スポーツ レジャー 公共施設 その他 MY天気 衛星画像 天気図 お問い合わせ ©Copyright Weathernews Inc. 個人情報保護ポリシー ウェブサイト利用ガイドライン 推奨環境 運営会社 ©NIFTY Corporation'),\n",
            "             Document(metadata={'title': '東京（東京）の天気 - Yahoo!天気・災害', 'source': 'https://weather.yahoo.co.jp/weather/jp/13/4410.html', 'score': 0.8437023, 'images': []}, page_content='パーソナル天気 現在位置： 天気・災害トップ > 関東・信越 > 東京都 > 東京（東京） 今日明日の天気 2024年11月19日 4時00分発表 11月19日(火) 晴時々曇 13℃[-7] 8℃[-3] 時間  0-6 6-12    12-18   18-24 降水  0％  0％  0％  0％ 風： 北の風後北東の風２３区西部では北の風やや強く 波： 1.5メートル後0.5メートル 11月20日(水) 曇のち雨 12℃[-1] 7℃[-1] 時間  0-6 6-12    12-18   18-24 降水  0％  10％ 30％ 60％ 風： 北西の風後東の風 波： 0.5メートル 東京地方の警報・注意報 注意報 強風、波浪 週間天気 2024年11月19日 2時00分発表 日付 11月21日 (木) 11月22日 (金) 11月23日 (土) 11月24日 (日) 11月25日 (月) 11月26日 (火) 天気 雨のち晴   晴時々曇   晴時々曇   晴時々曇   晴時々曇   曇一時雨 気温（℃）   14 降水 確率（％）   60  0   0   0   10  50 2024年11月19日 4時00分 発表 (C) Mapbox (C) OpenStreetMap (C) LY Corporation Yahoo!地図ガイドライン (C) Mapbox (C) OpenStreetMap (C) LY Corporation Yahoo!地図ガイドライン 11/18(月)18時\\u3000師走の寒さ\\u3000今季一番低く\\u3000北日本中心に積雪増加も Copyright (C) 2024 Weather Map Co., Ltd. All Rights Reserved. © LY Corporation'),\n",
            "             Document(metadata={'title': '【一番当たる】東京の最新天気 (1時間・今日明日・週間) - ウェザーニュース', 'source': 'http://www.jp-weathernews.com/v/wl/35.6777222222222/139.770527777778/q=東京&v=f02d60103eebddd4b43e66485464fc491ef1c14596ce3f73dcdd050eaf83551e&lang=ja', 'score': 0.8361405, 'images': []}, page_content='10℃\\n4m\\n15\\n0\\n11℃\\n4m\\n16\\n0\\n11℃\\n4m\\n17\\n0\\n11℃\\n5m\\n18\\n0\\n12℃\\n6m\\n19\\n0\\n11℃\\n7m\\n20\\n0\\n11℃\\n7m\\n21\\n0\\n9℃\\n7m\\n22\\n0\\n9℃\\n6m\\n23\\n0\\n9℃\\n5m\\n日\\n天気\\n気温\\n降水\\n確率\\n1月20日（土）\\n最高8℃\\n最低5℃\\n~6時\\n-%\\n~12時\\n-%\\n~18時\\n70%\\n~24時\\n70%\\n1月21日（日）\\n最高12℃\\n最低5℃\\n~6時\\n90%\\n~12時\\n100%\\n~18時\\n100%\\n~24時\\n50%\\n天気下り坂\\u3000寒さが戻る\\n今日は天気が下り坂で、段々と雨が降り出します。出かける時に雨が降っていなくても傘を持って。寒さが戻り、昼間も万全な防寒が必須です。\\n日\\n天気\\n最高\\n最低\\n降水\\n21(日)\\n12℃\\n5℃\\n80%\\n22(月)\\n13℃\\n7℃\\n30%\\n23(火)\\n12℃\\n5℃\\n30%\\n24(水)\\n9℃\\n2℃\\n20%\\n25(木)\\n10℃\\n0℃\\n20%\\n26(金)\\n11℃\\n2℃\\n20%\\n27(土)\\n12℃\\n3℃\\n20%\\n28(日)\\n12℃\\n3℃\\n20%\\n29(月)\\n13℃\\n3℃\\n20%\\n30(火)\\n12℃\\n4℃\\n40%\\n天気は周期変化\\u3000体調管理を\\n天気は周期的に変化します。傘の出番となり、本降りの雨となる日もあります。日ごとや一日の気温変化が大きいため、体調管理にお気を付けください。\\nお天気ニュース\\n関東甲信の山間部で大雪のおそれ\\u3000東京23区など平野部は雨\\n2024.01.20 10:52\\n西日本や東日本は広く雨に\\u3000甲信など東日本内陸部は積雪急増に警戒\\n2024.01.20 10:30\\n正に「大寒」\\u3000北海道江丹別で今冬全国最低気温の－28.5℃観測\\n2024.01.20 09:46\\nお天気ニュースをもっと読む →\\n東京付近の天気\\n雨雲レーダー\\n地図を拡大\\n観測値データ\\nグラフ\\n11:40\\n空の写真\\nライブ動画番組\\n【ライブ放送中】最新地震・気象情報\\u3000ウェザーニュースLiVE\\n東京付近の観測値\\n(℃)\\n(m/s)\\n(mm/h)\\n(分)\\n続きを見る\\n生活指数\\nビール\\n良い\\n犬猫散歩\\n最高\\n火の用心\\n心配なさそう\\n水道管凍結\\n可能性低い\\nフルーツ狩り\\n少し残念\\n布団干し\\nまあまあ\\n熱中症\\n大丈夫そう\\nアイスクリーム\\n残念\\nジョギング\\n最高\\n風邪ひき\\n心配なさそう\\nお出かけ\\n良い\\nお花見\\n最高\\n花粉\\n少ない\\n虹発見\\n難しそう\\nスポーツ\\n最高\\n夕焼け\\n難しそう\\n傘\\n折り畳み傘\\n紫外線\\n普通\\n寒さ体感\\n寒い\\n天気マップアニメーション\\n<\\n気圧\\n気温\\n>\\nお天気ニュース\\n北陸は次第に雨が降り出す\\u3000新たな土砂災害の発生に警戒を\\n2024.01.20 07:23\\n今日20日(土)の天気予報\\u3000西日本や東日本は雨\\u3000甲信や関東山沿いは積雪への備えを\\n2024.01.20 05:02\\n週間天気\\u3000日曜にかけ広く雨や雪\\u3000来週は日本海側で大雪のおそれ\\n2024.01.20 05:24\\nお天気キャスター解説\\u30001月20日(土)の天気\\n2024.01.20 06:16\\nひと目でわかる傘マップ\\u30001月20日(土)\\n 天気予報\\n天気予報を検索\\nNEWS\\n最新のニュースを読み込んでいます。\\n東京\\n1時間ごと\\n今日明日\\n週間(10日間)\\n日\\n時\\n天気\\n降水\\n気温\\n風\\n20日（土）\\n12\\n1ミリ\\n7℃\\n2m\\n13\\n0.5ミリ\\n8℃\\n2m\\n14\\n0.5ミリ\\n8℃\\n2m\\n15\\n0\\n7℃\\n2m\\n16\\n0\\n6℃\\n2m\\n17\\n1ミリ\\n6℃\\n2m\\n18\\n1ミリ\\n6℃\\n2m\\n19\\n1ミリ\\n5℃\\n2m\\n20\\n1ミリ\\n5℃\\n2m\\n21\\n1ミリ\\n5℃\\n2m\\n22\\n1ミリ\\n5℃\\n2m\\n23\\n1ミリ\\n5℃\\n2m\\n21日（日）\\n0\\n2ミリ\\n5℃\\n2m\\n1\\n2ミリ\\n5℃\\n2m\\n2\\n2ミリ\\n5℃\\n2m\\n3\\n2ミリ\\n5℃\\n2m\\n4\\n2ミリ\\n5℃\\n2m\\n5\\n3ミリ\\n6℃\\n2m\\n6\\n4ミリ\\n6℃\\n2m\\n7\\n5ミリ\\n6℃\\n2m\\n8\\n7ミリ\\n7℃\\n2m\\n9\\n8ミリ\\n9℃\\n2m\\n10\\n7ミリ\\n9℃\\n3m\\n11\\n2ミリ\\n9℃\\n3m\\n12\\n0\\n9℃\\n4m\\n13\\n0\\n10℃\\n4m\\n14\\n0\\n 05:32\\nお天気ニュースをもっと読む →\\nいまおすすめのメニュー\\n雨雲レーダー\\n雨雲の動きと予想を確認\\nウェザーリポート\\n全国から届くお天気リポート\\n防災・減災メニュー\\n天気メニュー\\nウェザーニュース 2024.01.20')],\n",
            " 'question': '東京の今日の天気は？'}\n"
          ]
        }
      ]
    }
  ]
}