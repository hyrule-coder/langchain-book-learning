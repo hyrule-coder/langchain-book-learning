{
  "nbformat": 4,
  "nbformat_minor": 0,
  "metadata": {
    "colab": {
      "provenance": [],
      "authorship_tag": "ABX9TyOyk5+aKMnMRKbeeaiBIG8e",
      "include_colab_link": true
    },
    "kernelspec": {
      "name": "python3",
      "display_name": "Python 3"
    },
    "language_info": {
      "name": "python"
    }
  },
  "cells": [
    {
      "cell_type": "markdown",
      "metadata": {
        "id": "view-in-github",
        "colab_type": "text"
      },
      "source": [
        "<a href=\"https://colab.research.google.com/github/hyrule-coder/langchain-book-learning/blob/main/chapter3.ipynb\" target=\"_parent\"><img src=\"https://colab.research.google.com/assets/colab-badge.svg\" alt=\"Open In Colab\"/></a>"
      ]
    },
    {
      "cell_type": "markdown",
      "source": [
        "# プロンプトエンジニアリング"
      ],
      "metadata": {
        "id": "8LzGYdVwWH0S"
      }
    },
    {
      "cell_type": "markdown",
      "source": [
        "## 準備"
      ],
      "metadata": {
        "id": "KfOoPnJ1WiFA"
      }
    },
    {
      "cell_type": "code",
      "source": [
        "!pip install openai==1.40.6\n",
        "!pip install httpx==0.27.2"
      ],
      "metadata": {
        "colab": {
          "base_uri": "https://localhost:8080/"
        },
        "id": "F4VKN1I9WRH0",
        "outputId": "80fa6a87-fd57-498b-da79-43ef5733989e"
      },
      "execution_count": null,
      "outputs": [
        {
          "output_type": "stream",
          "name": "stdout",
          "text": [
            "Collecting openai==1.40.6\n",
            "  Downloading openai-1.40.6-py3-none-any.whl.metadata (22 kB)\n",
            "Requirement already satisfied: anyio<5,>=3.5.0 in /usr/local/lib/python3.11/dist-packages (from openai==1.40.6) (3.7.1)\n",
            "Requirement already satisfied: distro<2,>=1.7.0 in /usr/local/lib/python3.11/dist-packages (from openai==1.40.6) (1.9.0)\n",
            "Requirement already satisfied: httpx<1,>=0.23.0 in /usr/local/lib/python3.11/dist-packages (from openai==1.40.6) (0.28.1)\n",
            "Requirement already satisfied: jiter<1,>=0.4.0 in /usr/local/lib/python3.11/dist-packages (from openai==1.40.6) (0.8.2)\n",
            "Requirement already satisfied: pydantic<3,>=1.9.0 in /usr/local/lib/python3.11/dist-packages (from openai==1.40.6) (2.10.5)\n",
            "Requirement already satisfied: sniffio in /usr/local/lib/python3.11/dist-packages (from openai==1.40.6) (1.3.1)\n",
            "Requirement already satisfied: tqdm>4 in /usr/local/lib/python3.11/dist-packages (from openai==1.40.6) (4.67.1)\n",
            "Requirement already satisfied: typing-extensions<5,>=4.11 in /usr/local/lib/python3.11/dist-packages (from openai==1.40.6) (4.12.2)\n",
            "Requirement already satisfied: idna>=2.8 in /usr/local/lib/python3.11/dist-packages (from anyio<5,>=3.5.0->openai==1.40.6) (3.10)\n",
            "Requirement already satisfied: certifi in /usr/local/lib/python3.11/dist-packages (from httpx<1,>=0.23.0->openai==1.40.6) (2024.12.14)\n",
            "Requirement already satisfied: httpcore==1.* in /usr/local/lib/python3.11/dist-packages (from httpx<1,>=0.23.0->openai==1.40.6) (1.0.7)\n",
            "Requirement already satisfied: h11<0.15,>=0.13 in /usr/local/lib/python3.11/dist-packages (from httpcore==1.*->httpx<1,>=0.23.0->openai==1.40.6) (0.14.0)\n",
            "Requirement already satisfied: annotated-types>=0.6.0 in /usr/local/lib/python3.11/dist-packages (from pydantic<3,>=1.9.0->openai==1.40.6) (0.7.0)\n",
            "Requirement already satisfied: pydantic-core==2.27.2 in /usr/local/lib/python3.11/dist-packages (from pydantic<3,>=1.9.0->openai==1.40.6) (2.27.2)\n",
            "Downloading openai-1.40.6-py3-none-any.whl (361 kB)\n",
            "\u001b[2K   \u001b[90m━━━━━━━━━━━━━━━━━━━━━━━━━━━━━━━━━━━━━━━━\u001b[0m \u001b[32m361.3/361.3 kB\u001b[0m \u001b[31m5.8 MB/s\u001b[0m eta \u001b[36m0:00:00\u001b[0m\n",
            "\u001b[?25hInstalling collected packages: openai\n",
            "  Attempting uninstall: openai\n",
            "    Found existing installation: openai 1.59.6\n",
            "    Uninstalling openai-1.59.6:\n",
            "      Successfully uninstalled openai-1.59.6\n",
            "Successfully installed openai-1.40.6\n",
            "Collecting httpx==0.27.2\n",
            "  Downloading httpx-0.27.2-py3-none-any.whl.metadata (7.1 kB)\n",
            "Requirement already satisfied: anyio in /usr/local/lib/python3.11/dist-packages (from httpx==0.27.2) (3.7.1)\n",
            "Requirement already satisfied: certifi in /usr/local/lib/python3.11/dist-packages (from httpx==0.27.2) (2024.12.14)\n",
            "Requirement already satisfied: httpcore==1.* in /usr/local/lib/python3.11/dist-packages (from httpx==0.27.2) (1.0.7)\n",
            "Requirement already satisfied: idna in /usr/local/lib/python3.11/dist-packages (from httpx==0.27.2) (3.10)\n",
            "Requirement already satisfied: sniffio in /usr/local/lib/python3.11/dist-packages (from httpx==0.27.2) (1.3.1)\n",
            "Requirement already satisfied: h11<0.15,>=0.13 in /usr/local/lib/python3.11/dist-packages (from httpcore==1.*->httpx==0.27.2) (0.14.0)\n",
            "Downloading httpx-0.27.2-py3-none-any.whl (76 kB)\n",
            "\u001b[2K   \u001b[90m━━━━━━━━━━━━━━━━━━━━━━━━━━━━━━━━━━━━━━━━\u001b[0m \u001b[32m76.4/76.4 kB\u001b[0m \u001b[31m1.8 MB/s\u001b[0m eta \u001b[36m0:00:00\u001b[0m\n",
            "\u001b[?25hInstalling collected packages: httpx\n",
            "  Attempting uninstall: httpx\n",
            "    Found existing installation: httpx 0.28.1\n",
            "    Uninstalling httpx-0.28.1:\n",
            "      Successfully uninstalled httpx-0.28.1\n",
            "Successfully installed httpx-0.27.2\n"
          ]
        }
      ]
    },
    {
      "cell_type": "code",
      "source": [
        "import os\n",
        "from google.colab import userdata\n",
        "os.environ[\"OPENAI_API_KEY\"] = userdata.get('OPENAI_API_KEY')"
      ],
      "metadata": {
        "id": "4XDtTQErWfEZ"
      },
      "execution_count": null,
      "outputs": []
    },
    {
      "cell_type": "markdown",
      "source": [
        "## プロンプトエンジニアリングとは"
      ],
      "metadata": {
        "id": "36GcHH-RWNqt"
      }
    },
    {
      "cell_type": "code",
      "source": [
        "from openai import OpenAI\n",
        "\n",
        "client = OpenAI()\n",
        "\n",
        "response = client.chat.completions.create(\n",
        "    model=\"gpt-4o-mini\",\n",
        "    messages=[\n",
        "        {\"role\": \"system\", \"content\": \"質問に100文字程度で答えてください。\"},\n",
        "        {\"role\": \"user\", \"content\": \"プロンプトエンジニアリングとは\"},\n",
        "    ],\n",
        ")\n",
        "print(response.choices[0].message.content)"
      ],
      "metadata": {
        "colab": {
          "base_uri": "https://localhost:8080/"
        },
        "id": "V4CKTdT8WtE5",
        "outputId": "99d87c25-d2c0-430a-fc86-3fbd52d02641"
      },
      "execution_count": null,
      "outputs": [
        {
          "output_type": "stream",
          "name": "stdout",
          "text": [
            "プロンプトエンジニアリングとは、AIモデルに最適な応答を引き出すために、入力するテキスト（プロンプト）を工夫する技術です。具体的には、言葉の選択や構造を調整し、望ましい結果を得ることを目的としています。\n"
          ]
        }
      ]
    },
    {
      "cell_type": "markdown",
      "source": [
        "## プロンプトの構成要素の基本"
      ],
      "metadata": {
        "id": "oZ5LF3pMaInK"
      }
    },
    {
      "cell_type": "markdown",
      "source": [
        "### プロンプトのテンプレート化"
      ],
      "metadata": {
        "id": "i8oFIlmpcMrx"
      }
    },
    {
      "cell_type": "code",
      "source": [
        "from openai import OpenAI\n",
        "\n",
        "prompt ='''\\\n",
        "以下の料理のレシピを考えてください。\n",
        "\n",
        "料理名:\"\"\"\n",
        "{dish}\n",
        "\"\"\"\n",
        "'''\n",
        "\n",
        "def generate_recipe(dish: str) -> str:\n",
        "    client = OpenAI()\n",
        "    response = client.chat.completions.create(\n",
        "        model=\"gpt-4o-mini\",\n",
        "        messages=[\n",
        "            {\"role\": \"user\", \"content\": prompt.format(dish=dish)},\n",
        "        ],\n",
        "    )\n",
        "    return response.choices[0].message.content\n",
        "\n",
        "recipe = generate_recipe(\"カレー\")\n",
        "print(recipe)"
      ],
      "metadata": {
        "colab": {
          "base_uri": "https://localhost:8080/"
        },
        "id": "hcxsqXwcaLsF",
        "outputId": "95333df8-1f61-4008-b9d0-caa1e5af8c9a"
      },
      "execution_count": null,
      "outputs": [
        {
          "output_type": "stream",
          "name": "stdout",
          "text": [
            "カレーのレシピをご紹介します。これは基本的なビーフカレーのレシピですが、お好みに応じて野菜やスパイスを追加してアレンジできます。\n",
            "\n",
            "### ビーフカレーのレシピ\n",
            "\n",
            "#### 材料 (4人分)\n",
            "\n",
            "- 牛肉（肩ロースやシチュー用肉）：500g\n",
            "- 玉ねぎ：2個\n",
            "- にんじん：1本\n",
            "- じゃがいも：2個\n",
            "- ニンニク：2片\n",
            "- 生姜：1片\n",
            "- カレールー：1箱（約200g）\n",
            "- トマト缶（カットトマト）：1缶（400g）\n",
            "- 水：600ml\n",
            "- サラダ油：大さじ2\n",
            "- 塩：適量\n",
            "- こしょう：適量\n",
            "- お好みで、ナツメグやガラムマサラ：少々\n",
            "- ご飯：適量（白米や雑穀米）\n",
            "\n",
            "#### 作り方\n",
            "\n",
            "1. **下ごしらえ**\n",
            "   - 玉ねぎはみじん切りにします。\n",
            "   - にんじんとじゃがいもは皮をむいて、一口大にカットします。\n",
            "   - ニンニクと生姜はそれぞれみじん切りにします。\n",
            "   - 牛肉は一口大に切り、塩とこしょうで下味をつけます。\n",
            "\n",
            "2. **炒める**\n",
            "   - 大きめの鍋にサラダ油を熱し、玉ねぎを中火で透明になるまで炒めます。\n",
            "   - その後、ニンニクと生姜を加えて香りが立つまでさらに炒めます。\n",
            "\n",
            "3. **肉を加える**\n",
            "   - 牛肉を鍋に加え、表面が焼き色がつくまで炒めます。\n",
            "\n",
            "4. **野菜を加える**\n",
            "   - にんじんとじゃがいもを加え、全体を軽く混ぜ合わせます。\n",
            "\n",
            "5. **煮込む**\n",
            "   - トマト缶を加え、水を入れます。沸騰したら、アクを取り除きます。\n",
            "   - 蓋をして弱火で約30分、肉と野菜が柔らかくなるまで煮込みます。\n",
            "\n",
            "6. **カレールーを加える**\n",
            "   - 火を止めてからカレールーを割り入れ、よく混ぜます。再び火を入れ、中火で10分ほど煮込みます。お好みでナツメグやガラムマサラを加えて風味を調整します。\n",
            "\n",
            "7. **仕上げ**\n",
            "   - 味見をし、必要に応じて塩で味を調整します。\n",
            "   - ご飯を皿に盛り、カレーをかけて完成です。\n",
            "\n",
            "### お好みで\n",
            "- 具材にピーマンやナスなどの野菜を追加しても美味しいです。\n",
            "- 辛さを調整したい場合は、唐辛子を加えるか、辛口のカレールーを使用してください。\n",
            "- カレーを煮込む時間を長くすると、さらに味が深まり美味しくなります。\n",
            "\n",
            "おいしいカレーを楽しんでください！\n"
          ]
        }
      ]
    },
    {
      "cell_type": "markdown",
      "source": [
        "### role:systemを使った場合"
      ],
      "metadata": {
        "id": "GE9N4dLdcT7o"
      }
    },
    {
      "cell_type": "code",
      "source": [
        "from openai import OpenAI\n",
        "\n",
        "def generate_recipe(dish: str) -> str:\n",
        "    client = OpenAI()\n",
        "    response = client.chat.completions.create(\n",
        "        model=\"gpt-4o-mini\",\n",
        "        messages=[\n",
        "            {\"role\": \"system\", \"content\": \"ユーザーが入力した料理のレシピを考えてください。\"},\n",
        "            {\"role\": \"user\", \"content\": f\"料理名: {dish}\"},\n",
        "        ],\n",
        "    )\n",
        "    return response.choices[0].message.content\n",
        "\n",
        "recipe = generate_recipe(\"うどん\")\n",
        "print(recipe)"
      ],
      "metadata": {
        "colab": {
          "base_uri": "https://localhost:8080/"
        },
        "id": "FI30N2GUbpvi",
        "outputId": "18fb44f1-9e64-4c04-982f-0f0f221101e9"
      },
      "execution_count": null,
      "outputs": [
        {
          "output_type": "stream",
          "name": "stdout",
          "text": [
            "うどんのレシピを以下にご紹介します。\n",
            "\n",
            "### 材料（2人分）\n",
            "- うどん（乾燥または生）: 2玉\n",
            "- だし: 750ml（昆布とかつおぶしから作るか、だしの素を使用）\n",
            "- 醤油: 大さじ2\n",
            "- 味噌: 大さじ1（お好みで）\n",
            "- みりん: 大さじ1\n",
            "- ネギ: 適量（小口切り）\n",
            "- 天かす: 適量\n",
            "- しらすや海老: お好みで\n",
            "- かまぼこ: 適量（薄切り）\n",
            "- 煮卵: お好みで\n",
            "- ほうれん草や小松菜: 適量（茹でておく）\n",
            "\n",
            "### 作り方\n",
            "1. **だしを取る**  \n",
            "   鍋に水を入れ、乾燥昆布を入れて30分ほど浸します。それから中火で加熱し、沸騰直前で昆布を取り出します。次にかつおぶしを入れて、再度沸騰させ、火を止めて3分ほど置きます。その後、こしてだしを取ります。だしの素を使う場合は、パッケージの指示通りに水で溶かします。\n",
            "\n",
            "2. **つゆを作る**  \n",
            "   別の鍋に取り出しただしを入れ、醤油、味噌、みりんを加え、中火で温めます。好みに応じて味を調整します。\n",
            "\n",
            "3. **うどんを茹でる**  \n",
            "   たっぷりの水を沸騰させ、うどんを入れて袋の指示通りに茹でます。茹で上がったら、ざるにあげて水で rinsします。\n",
            "\n",
            "4. **盛り付け**  \n",
            "   器に茹でたうどんを盛り、その上に温めたつゆをかけます。ネギ、天かす、しらす、かまぼこ、茹でたほうれん草をトッピングします。お好みで煮卵を加えても良いでしょう。\n",
            "\n",
            "5. **完成**  \n",
            "   すぐに召し上がれます。お好みで七味唐辛子を振りかけても美味しいです。\n",
            "\n",
            "### お好みアレンジ\n",
            "- 特製の具材（鶏肉や豚肉、野菜など）を追加して、具だくさんにするのもおすすめです。\n",
            "- 冷たいつけうどんにする場合は、ゆでたうどんを冷やし、冷たいつけつゆを用意します。\n",
            "\n",
            "温かい汁うどんでも、冷たいつけうどんでも楽しめる、さまざまなアレンジができる料理です。ぜひお試しください！\n"
          ]
        }
      ]
    },
    {
      "cell_type": "markdown",
      "source": [
        "### 出力形式を指定する"
      ],
      "metadata": {
        "id": "IH9Yw6Und8qy"
      }
    },
    {
      "cell_type": "code",
      "source": [
        "from openai import OpenAI\n",
        "\n",
        "system_prompt =\"\"\"\\\n",
        "ユーザーが入力したレシピ医を考えてください。\n",
        "\n",
        "出力は以下のJSON形式にしてください。\n",
        "\n",
        "'''\n",
        "{\n",
        "  \"材料\":{\"材料1\",\"材料2\",\"材料3\"},\n",
        "  \"手順\":[\"手順1\",\"手順2\",\"手順3\"]\n",
        "}\n",
        "'''\n",
        "\"\"\"\n",
        "\n",
        "def generate_recipe(dish: str) -> str:\n",
        "    client = OpenAI()\n",
        "    response = client.chat.completions.create(\n",
        "        model=\"gpt-4o-mini\",\n",
        "        messages=[\n",
        "            {\"role\": \"system\", \"content\": system_prompt},\n",
        "            {\"role\": \"user\", \"content\": f\"料理名:{dish}\"},\n",
        "        ],\n",
        "    )\n",
        "    return response.choices[0].message.content\n",
        "\n",
        "recipe = generate_recipe(\"カレー\")\n",
        "print(recipe)"
      ],
      "metadata": {
        "colab": {
          "base_uri": "https://localhost:8080/"
        },
        "id": "0jp2SYU4d8T8",
        "outputId": "8b32f483-a9c4-466d-8e21-fc6243962923"
      },
      "execution_count": null,
      "outputs": [
        {
          "output_type": "stream",
          "name": "stdout",
          "text": [
            "```json\n",
            "{\n",
            "  \"材料\": {\"米\", \"カレールー\", \"肉\", \"玉ねぎ\", \"にんじん\", \"じゃがいも\"},\n",
            "  \"手順\": [\n",
            "    \"米を洗い、炊飯器で炊く。\",\n",
            "    \"玉ねぎ、にんじん、じゃがいもを切る。\",\n",
            "    \"鍋に油を熱し、肉を炒め、その後玉ねぎを加えて透明になるまで炒める。\",\n",
            "    \"にんじんとじゃがいもを加え、さらに炒める。\",\n",
            "    \"水を加え、煮立ったらカレールーを入れて混ぜ、煮込む。\",\n",
            "    \"ご飯が炊き上がったら、皿に盛り付けてカレーをかけて完成。\"\n",
            "  ]\n",
            "}\n",
            "```\n"
          ]
        }
      ]
    },
    {
      "cell_type": "markdown",
      "source": [
        "## プロンプトエンジニアリングの定番の手法"
      ],
      "metadata": {
        "id": "uo2vnaTAfXJK"
      }
    },
    {
      "cell_type": "markdown",
      "source": [
        "### 共通部分?"
      ],
      "metadata": {
        "id": "QQ2RggaGfmT-"
      }
    },
    {
      "cell_type": "code",
      "source": [
        "from openai import OpenAI\n",
        "\n",
        "client = OpenAI()"
      ],
      "metadata": {
        "id": "KME8THnafpW5"
      },
      "execution_count": null,
      "outputs": []
    },
    {
      "cell_type": "markdown",
      "source": [
        "### Zero-shot プロンプティング"
      ],
      "metadata": {
        "id": "2ACaXKgjfdRk"
      }
    },
    {
      "cell_type": "code",
      "source": [
        "response = client.chat.completions.create(\n",
        "    model=\"gpt-4o-mini\",\n",
        "    messages=[\n",
        "        {\"role\": \"system\", \"content\": \"入力をポジティブ・ネガティブ・中立のどれかに分類してください。\"},\n",
        "        {\"role\": \"user\", \"content\": \"ChatGPTはプログラミングの悩み事をたくさん解決してくれる\"},\n",
        "    ],\n",
        ")\n",
        "print(response.choices[0].message.content\n",
        ")"
      ],
      "metadata": {
        "colab": {
          "base_uri": "https://localhost:8080/"
        },
        "id": "OPsS4J9bfh6F",
        "outputId": "3b6f16f0-112f-4542-fb28-b4487b33938a"
      },
      "execution_count": null,
      "outputs": [
        {
          "output_type": "stream",
          "name": "stdout",
          "text": [
            "ポジティブ\n"
          ]
        }
      ]
    },
    {
      "cell_type": "markdown",
      "source": [
        "### Few-shot プロンプティング"
      ],
      "metadata": {
        "id": "7o4Xep3AitML"
      }
    },
    {
      "cell_type": "code",
      "source": [
        "response = client.chat.completions.create(\n",
        "    model=\"gpt-4o-mini\",\n",
        "    messages=[\n",
        "        {\"role\": \"system\", \"content\": \"入力がAIに関係するか回答してください。\"},\n",
        "        {\"role\": \"user\", \"content\": \"AIの進化はすごい\"},\n",
        "        {\"role\": \"assistant\", \"content\": \"true\"},\n",
        "        {\"role\": \"user\", \"content\": \"今日は良い天気だ\"},\n",
        "        {\"role\": \"assistant\", \"content\": \"false\"},\n",
        "        {\"role\": \"user\", \"content\": \"ChatGPTはとても便利だ\"},\n",
        "    ],\n",
        ")\n",
        "print(response.choices[0].message.content)"
      ],
      "metadata": {
        "colab": {
          "base_uri": "https://localhost:8080/"
        },
        "id": "fAXgMxmcixdT",
        "outputId": "c5670f28-0a52-4db2-eb1e-38047086e1ed"
      },
      "execution_count": null,
      "outputs": [
        {
          "output_type": "stream",
          "name": "stdout",
          "text": [
            "true\n"
          ]
        }
      ]
    },
    {
      "cell_type": "markdown",
      "source": [
        "### Zero-shot Chain-of-Thoughtプロンプティング"
      ],
      "metadata": {
        "id": "LApttCHkkHpp"
      }
    },
    {
      "cell_type": "code",
      "source": [
        "response = client.chat.completions.create(\n",
        "    model=\"gpt-4o-mini\",\n",
        "    messages=[\n",
        "        {\"role\":\"system\", \"content\": \"回答だけ一言で出力してください\"},\n",
        "        {\"role\": \"user\", \"content\": \"10 + 2 * 3 - 4 * 2\"},\n",
        "    ]\n",
        ")\n",
        "print(response.choices[0].message.content)"
      ],
      "metadata": {
        "colab": {
          "base_uri": "https://localhost:8080/"
        },
        "id": "MpqkR3d5kM0b",
        "outputId": "d7b3224f-9f24-48a7-87d4-23e4f770ce17"
      },
      "execution_count": null,
      "outputs": [
        {
          "output_type": "stream",
          "name": "stdout",
          "text": [
            "12\n"
          ]
        }
      ]
    },
    {
      "cell_type": "code",
      "source": [
        "response = client.chat.completions.create(\n",
        "    model=\"gpt-4o-mini\",\n",
        "    messages=[\n",
        "        {\"role\":\"system\", \"content\": \"ステップバイステップで考えてください\"},\n",
        "        {\"role\": \"user\", \"content\": \"10 + 2 * 3 - 4 * 2\"},\n",
        "    ]\n",
        ")\n",
        "print(response.choices[0].message.content)"
      ],
      "metadata": {
        "colab": {
          "base_uri": "https://localhost:8080/"
        },
        "id": "16Zk7xmolf5x",
        "outputId": "cfe5ef59-d919-4ebe-995a-e78df87bfe03"
      },
      "execution_count": null,
      "outputs": [
        {
          "output_type": "stream",
          "name": "stdout",
          "text": [
            "数式を計算するために、演算の優先順位に従いましょう。優先順位は以下の通りです：\n",
            "\n",
            "1. 掛け算と割り算（左から右へ）\n",
            "2. 足し算と引き算（左から右へ）\n",
            "\n",
            "与えられた数式は以下の通りです：\n",
            "\n",
            "10 + 2 * 3 - 4 * 2\n",
            "\n",
            "ステップバイステップで計算します。\n",
            "\n",
            "1. まず、掛け算を計算します。\n",
            "   - 2 * 3 = 6\n",
            "   - 4 * 2 = 8\n",
            "\n",
            "これを数式に代入すると：\n",
            "\n",
            "10 + 6 - 8\n",
            "\n",
            "2. 次に、足し算を計算します。\n",
            "   - 10 + 6 = 16\n",
            "\n",
            "これを数式に代入すると：\n",
            "\n",
            "16 - 8\n",
            "\n",
            "3. 最後に、引き算を計算します。\n",
            "   - 16 - 8 = 8\n",
            "\n",
            "したがって、最終的な答えは **8** です。\n"
          ]
        }
      ]
    },
    {
      "cell_type": "markdown",
      "source": [
        "#### Zero shot Chain-of-Thoughtで回答だけ取得しようとしたが、うまくいかなかった"
      ],
      "metadata": {
        "id": "RNe9M67MmkzQ"
      }
    },
    {
      "cell_type": "code",
      "source": [
        "response = client.chat.completions.create(\n",
        "    model=\"gpt-4o-mini\",\n",
        "    messages=[\n",
        "        {\"role\":\"system\", \"content\": \"ステップバイステップで考えて回答を出し、回答だけ一言で出力してください\"},\n",
        "        {\"role\": \"user\", \"content\": \"10 + 2 * 3 - 4 * 2\"},\n",
        "    ]\n",
        ")\n",
        "print(response.choices[0].message.content)"
      ],
      "metadata": {
        "colab": {
          "base_uri": "https://localhost:8080/"
        },
        "id": "dXFk5BN3l8UI",
        "outputId": "06229266-4297-4b27-d9ee-0c8d870cb823"
      },
      "execution_count": null,
      "outputs": [
        {
          "output_type": "stream",
          "name": "stdout",
          "text": [
            "1. まず、掛け算を優先して計算します。\n",
            "   - 2 * 3 = 6\n",
            "   - 4 * 2 = 8\n",
            "2. 次に、式を置き換えます。\n",
            "   - 10 + 6 - 8\n",
            "3. 次に、左から順に足し算と引き算を実行します。\n",
            "   - 10 + 6 = 16\n",
            "   - 16 - 8 = 8\n",
            "\n",
            "答え: 8\n"
          ]
        }
      ]
    }
  ]
}